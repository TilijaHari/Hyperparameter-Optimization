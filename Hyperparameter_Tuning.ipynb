{
  "nbformat": 4,
  "nbformat_minor": 0,
  "metadata": {
    "colab": {
      "name": "Hyperparameter_Tuning.ipynb",
      "provenance": []
    },
    "kernelspec": {
      "name": "python3",
      "display_name": "Python 3"
    },
    "language_info": {
      "name": "python"
    },
    "accelerator": "GPU",
    "widgets": {
      "application/vnd.jupyter.widget-state+json": {
        "a53fc5abaf0c4a4d8e66eb962abb1094": {
          "model_module": "@jupyter-widgets/controls",
          "model_name": "HBoxModel",
          "model_module_version": "1.5.0",
          "state": {
            "_dom_classes": [],
            "_model_module": "@jupyter-widgets/controls",
            "_model_module_version": "1.5.0",
            "_model_name": "HBoxModel",
            "_view_count": null,
            "_view_module": "@jupyter-widgets/controls",
            "_view_module_version": "1.5.0",
            "_view_name": "HBoxView",
            "box_style": "",
            "children": [
              "IPY_MODEL_87bd98a54a094cc5897c2875fd1d2969",
              "IPY_MODEL_a8958a56253b43379fce862557a8b2f8",
              "IPY_MODEL_c792a9dc20f84f919da97cb1b5339213"
            ],
            "layout": "IPY_MODEL_69d87caa0a704dda830d466bf781517d"
          }
        },
        "87bd98a54a094cc5897c2875fd1d2969": {
          "model_module": "@jupyter-widgets/controls",
          "model_name": "HTMLModel",
          "model_module_version": "1.5.0",
          "state": {
            "_dom_classes": [],
            "_model_module": "@jupyter-widgets/controls",
            "_model_module_version": "1.5.0",
            "_model_name": "HTMLModel",
            "_view_count": null,
            "_view_module": "@jupyter-widgets/controls",
            "_view_module_version": "1.5.0",
            "_view_name": "HTMLView",
            "description": "",
            "description_tooltip": null,
            "layout": "IPY_MODEL_e9b4e362a4dc4b358484c1609dbbc773",
            "placeholder": "​",
            "style": "IPY_MODEL_23bfa2d2dd914da6a091bc6133774778",
            "value": "Optimization Progress: 100%"
          }
        },
        "a8958a56253b43379fce862557a8b2f8": {
          "model_module": "@jupyter-widgets/controls",
          "model_name": "FloatProgressModel",
          "model_module_version": "1.5.0",
          "state": {
            "_dom_classes": [],
            "_model_module": "@jupyter-widgets/controls",
            "_model_module_version": "1.5.0",
            "_model_name": "FloatProgressModel",
            "_view_count": null,
            "_view_module": "@jupyter-widgets/controls",
            "_view_module_version": "1.5.0",
            "_view_name": "ProgressView",
            "bar_style": "",
            "description": "",
            "description_tooltip": null,
            "layout": "IPY_MODEL_12742f193a6a4cca88d8249a31d6b539",
            "max": 84,
            "min": 0,
            "orientation": "horizontal",
            "style": "IPY_MODEL_7039fc0ea7a447fa9b4954f5c9525f2c",
            "value": 84
          }
        },
        "c792a9dc20f84f919da97cb1b5339213": {
          "model_module": "@jupyter-widgets/controls",
          "model_name": "HTMLModel",
          "model_module_version": "1.5.0",
          "state": {
            "_dom_classes": [],
            "_model_module": "@jupyter-widgets/controls",
            "_model_module_version": "1.5.0",
            "_model_name": "HTMLModel",
            "_view_count": null,
            "_view_module": "@jupyter-widgets/controls",
            "_view_module_version": "1.5.0",
            "_view_name": "HTMLView",
            "description": "",
            "description_tooltip": null,
            "layout": "IPY_MODEL_53c376e66e2140fabeda218e0cb652f3",
            "placeholder": "​",
            "style": "IPY_MODEL_852365cd29974438b29d4935f1dc29cf",
            "value": " 84/84 [23:06&lt;00:00, 14.90s/pipeline]"
          }
        },
        "69d87caa0a704dda830d466bf781517d": {
          "model_module": "@jupyter-widgets/base",
          "model_name": "LayoutModel",
          "model_module_version": "1.2.0",
          "state": {
            "_model_module": "@jupyter-widgets/base",
            "_model_module_version": "1.2.0",
            "_model_name": "LayoutModel",
            "_view_count": null,
            "_view_module": "@jupyter-widgets/base",
            "_view_module_version": "1.2.0",
            "_view_name": "LayoutView",
            "align_content": null,
            "align_items": null,
            "align_self": null,
            "border": null,
            "bottom": null,
            "display": null,
            "flex": null,
            "flex_flow": null,
            "grid_area": null,
            "grid_auto_columns": null,
            "grid_auto_flow": null,
            "grid_auto_rows": null,
            "grid_column": null,
            "grid_gap": null,
            "grid_row": null,
            "grid_template_areas": null,
            "grid_template_columns": null,
            "grid_template_rows": null,
            "height": null,
            "justify_content": null,
            "justify_items": null,
            "left": null,
            "margin": null,
            "max_height": null,
            "max_width": null,
            "min_height": null,
            "min_width": null,
            "object_fit": null,
            "object_position": null,
            "order": null,
            "overflow": null,
            "overflow_x": null,
            "overflow_y": null,
            "padding": null,
            "right": null,
            "top": null,
            "visibility": null,
            "width": null
          }
        },
        "e9b4e362a4dc4b358484c1609dbbc773": {
          "model_module": "@jupyter-widgets/base",
          "model_name": "LayoutModel",
          "model_module_version": "1.2.0",
          "state": {
            "_model_module": "@jupyter-widgets/base",
            "_model_module_version": "1.2.0",
            "_model_name": "LayoutModel",
            "_view_count": null,
            "_view_module": "@jupyter-widgets/base",
            "_view_module_version": "1.2.0",
            "_view_name": "LayoutView",
            "align_content": null,
            "align_items": null,
            "align_self": null,
            "border": null,
            "bottom": null,
            "display": null,
            "flex": null,
            "flex_flow": null,
            "grid_area": null,
            "grid_auto_columns": null,
            "grid_auto_flow": null,
            "grid_auto_rows": null,
            "grid_column": null,
            "grid_gap": null,
            "grid_row": null,
            "grid_template_areas": null,
            "grid_template_columns": null,
            "grid_template_rows": null,
            "height": null,
            "justify_content": null,
            "justify_items": null,
            "left": null,
            "margin": null,
            "max_height": null,
            "max_width": null,
            "min_height": null,
            "min_width": null,
            "object_fit": null,
            "object_position": null,
            "order": null,
            "overflow": null,
            "overflow_x": null,
            "overflow_y": null,
            "padding": null,
            "right": null,
            "top": null,
            "visibility": null,
            "width": null
          }
        },
        "23bfa2d2dd914da6a091bc6133774778": {
          "model_module": "@jupyter-widgets/controls",
          "model_name": "DescriptionStyleModel",
          "model_module_version": "1.5.0",
          "state": {
            "_model_module": "@jupyter-widgets/controls",
            "_model_module_version": "1.5.0",
            "_model_name": "DescriptionStyleModel",
            "_view_count": null,
            "_view_module": "@jupyter-widgets/base",
            "_view_module_version": "1.2.0",
            "_view_name": "StyleView",
            "description_width": ""
          }
        },
        "12742f193a6a4cca88d8249a31d6b539": {
          "model_module": "@jupyter-widgets/base",
          "model_name": "LayoutModel",
          "model_module_version": "1.2.0",
          "state": {
            "_model_module": "@jupyter-widgets/base",
            "_model_module_version": "1.2.0",
            "_model_name": "LayoutModel",
            "_view_count": null,
            "_view_module": "@jupyter-widgets/base",
            "_view_module_version": "1.2.0",
            "_view_name": "LayoutView",
            "align_content": null,
            "align_items": null,
            "align_self": null,
            "border": null,
            "bottom": null,
            "display": null,
            "flex": null,
            "flex_flow": null,
            "grid_area": null,
            "grid_auto_columns": null,
            "grid_auto_flow": null,
            "grid_auto_rows": null,
            "grid_column": null,
            "grid_gap": null,
            "grid_row": null,
            "grid_template_areas": null,
            "grid_template_columns": null,
            "grid_template_rows": null,
            "height": null,
            "justify_content": null,
            "justify_items": null,
            "left": null,
            "margin": null,
            "max_height": null,
            "max_width": null,
            "min_height": null,
            "min_width": null,
            "object_fit": null,
            "object_position": null,
            "order": null,
            "overflow": null,
            "overflow_x": null,
            "overflow_y": null,
            "padding": null,
            "right": null,
            "top": null,
            "visibility": null,
            "width": null
          }
        },
        "7039fc0ea7a447fa9b4954f5c9525f2c": {
          "model_module": "@jupyter-widgets/controls",
          "model_name": "ProgressStyleModel",
          "model_module_version": "1.5.0",
          "state": {
            "_model_module": "@jupyter-widgets/controls",
            "_model_module_version": "1.5.0",
            "_model_name": "ProgressStyleModel",
            "_view_count": null,
            "_view_module": "@jupyter-widgets/base",
            "_view_module_version": "1.2.0",
            "_view_name": "StyleView",
            "bar_color": null,
            "description_width": ""
          }
        },
        "53c376e66e2140fabeda218e0cb652f3": {
          "model_module": "@jupyter-widgets/base",
          "model_name": "LayoutModel",
          "model_module_version": "1.2.0",
          "state": {
            "_model_module": "@jupyter-widgets/base",
            "_model_module_version": "1.2.0",
            "_model_name": "LayoutModel",
            "_view_count": null,
            "_view_module": "@jupyter-widgets/base",
            "_view_module_version": "1.2.0",
            "_view_name": "LayoutView",
            "align_content": null,
            "align_items": null,
            "align_self": null,
            "border": null,
            "bottom": null,
            "display": null,
            "flex": null,
            "flex_flow": null,
            "grid_area": null,
            "grid_auto_columns": null,
            "grid_auto_flow": null,
            "grid_auto_rows": null,
            "grid_column": null,
            "grid_gap": null,
            "grid_row": null,
            "grid_template_areas": null,
            "grid_template_columns": null,
            "grid_template_rows": null,
            "height": null,
            "justify_content": null,
            "justify_items": null,
            "left": null,
            "margin": null,
            "max_height": null,
            "max_width": null,
            "min_height": null,
            "min_width": null,
            "object_fit": null,
            "object_position": null,
            "order": null,
            "overflow": null,
            "overflow_x": null,
            "overflow_y": null,
            "padding": null,
            "right": null,
            "top": null,
            "visibility": null,
            "width": null
          }
        },
        "852365cd29974438b29d4935f1dc29cf": {
          "model_module": "@jupyter-widgets/controls",
          "model_name": "DescriptionStyleModel",
          "model_module_version": "1.5.0",
          "state": {
            "_model_module": "@jupyter-widgets/controls",
            "_model_module_version": "1.5.0",
            "_model_name": "DescriptionStyleModel",
            "_view_count": null,
            "_view_module": "@jupyter-widgets/base",
            "_view_module_version": "1.2.0",
            "_view_name": "StyleView",
            "description_width": ""
          }
        }
      }
    }
  },
  "cells": [
    {
      "cell_type": "code",
      "source": [
        "import warnings\n",
        "warnings.filterwarnings(\"ignore\")"
      ],
      "metadata": {
        "id": "UDcXemrorcZU"
      },
      "execution_count": 4,
      "outputs": []
    },
    {
      "cell_type": "code",
      "source": [
        "import pandas as pd\n",
        "df = pd.read_csv(\"/content/diabetes.csv\")\n",
        "df.head()"
      ],
      "metadata": {
        "colab": {
          "base_uri": "https://localhost:8080/",
          "height": 206
        },
        "id": "UM73AWr-vSkm",
        "outputId": "7c13c02b-7e7b-4f8e-df2e-8241970945b8"
      },
      "execution_count": 5,
      "outputs": [
        {
          "output_type": "execute_result",
          "data": {
            "text/plain": [
              "   Pregnancies  Glucose  BloodPressure  SkinThickness  Insulin   BMI  \\\n",
              "0            6      148             72             35        0  33.6   \n",
              "1            1       85             66             29        0  26.6   \n",
              "2            8      183             64              0        0  23.3   \n",
              "3            1       89             66             23       94  28.1   \n",
              "4            0      137             40             35      168  43.1   \n",
              "\n",
              "   DiabetesPedigreeFunction  Age  Outcome  \n",
              "0                     0.627   50        1  \n",
              "1                     0.351   31        0  \n",
              "2                     0.672   32        1  \n",
              "3                     0.167   21        0  \n",
              "4                     2.288   33        1  "
            ],
            "text/html": [
              "\n",
              "  <div id=\"df-2ecaa4ee-3aef-4427-ad88-b03cb081af1b\">\n",
              "    <div class=\"colab-df-container\">\n",
              "      <div>\n",
              "<style scoped>\n",
              "    .dataframe tbody tr th:only-of-type {\n",
              "        vertical-align: middle;\n",
              "    }\n",
              "\n",
              "    .dataframe tbody tr th {\n",
              "        vertical-align: top;\n",
              "    }\n",
              "\n",
              "    .dataframe thead th {\n",
              "        text-align: right;\n",
              "    }\n",
              "</style>\n",
              "<table border=\"1\" class=\"dataframe\">\n",
              "  <thead>\n",
              "    <tr style=\"text-align: right;\">\n",
              "      <th></th>\n",
              "      <th>Pregnancies</th>\n",
              "      <th>Glucose</th>\n",
              "      <th>BloodPressure</th>\n",
              "      <th>SkinThickness</th>\n",
              "      <th>Insulin</th>\n",
              "      <th>BMI</th>\n",
              "      <th>DiabetesPedigreeFunction</th>\n",
              "      <th>Age</th>\n",
              "      <th>Outcome</th>\n",
              "    </tr>\n",
              "  </thead>\n",
              "  <tbody>\n",
              "    <tr>\n",
              "      <th>0</th>\n",
              "      <td>6</td>\n",
              "      <td>148</td>\n",
              "      <td>72</td>\n",
              "      <td>35</td>\n",
              "      <td>0</td>\n",
              "      <td>33.6</td>\n",
              "      <td>0.627</td>\n",
              "      <td>50</td>\n",
              "      <td>1</td>\n",
              "    </tr>\n",
              "    <tr>\n",
              "      <th>1</th>\n",
              "      <td>1</td>\n",
              "      <td>85</td>\n",
              "      <td>66</td>\n",
              "      <td>29</td>\n",
              "      <td>0</td>\n",
              "      <td>26.6</td>\n",
              "      <td>0.351</td>\n",
              "      <td>31</td>\n",
              "      <td>0</td>\n",
              "    </tr>\n",
              "    <tr>\n",
              "      <th>2</th>\n",
              "      <td>8</td>\n",
              "      <td>183</td>\n",
              "      <td>64</td>\n",
              "      <td>0</td>\n",
              "      <td>0</td>\n",
              "      <td>23.3</td>\n",
              "      <td>0.672</td>\n",
              "      <td>32</td>\n",
              "      <td>1</td>\n",
              "    </tr>\n",
              "    <tr>\n",
              "      <th>3</th>\n",
              "      <td>1</td>\n",
              "      <td>89</td>\n",
              "      <td>66</td>\n",
              "      <td>23</td>\n",
              "      <td>94</td>\n",
              "      <td>28.1</td>\n",
              "      <td>0.167</td>\n",
              "      <td>21</td>\n",
              "      <td>0</td>\n",
              "    </tr>\n",
              "    <tr>\n",
              "      <th>4</th>\n",
              "      <td>0</td>\n",
              "      <td>137</td>\n",
              "      <td>40</td>\n",
              "      <td>35</td>\n",
              "      <td>168</td>\n",
              "      <td>43.1</td>\n",
              "      <td>2.288</td>\n",
              "      <td>33</td>\n",
              "      <td>1</td>\n",
              "    </tr>\n",
              "  </tbody>\n",
              "</table>\n",
              "</div>\n",
              "      <button class=\"colab-df-convert\" onclick=\"convertToInteractive('df-2ecaa4ee-3aef-4427-ad88-b03cb081af1b')\"\n",
              "              title=\"Convert this dataframe to an interactive table.\"\n",
              "              style=\"display:none;\">\n",
              "        \n",
              "  <svg xmlns=\"http://www.w3.org/2000/svg\" height=\"24px\"viewBox=\"0 0 24 24\"\n",
              "       width=\"24px\">\n",
              "    <path d=\"M0 0h24v24H0V0z\" fill=\"none\"/>\n",
              "    <path d=\"M18.56 5.44l.94 2.06.94-2.06 2.06-.94-2.06-.94-.94-2.06-.94 2.06-2.06.94zm-11 1L8.5 8.5l.94-2.06 2.06-.94-2.06-.94L8.5 2.5l-.94 2.06-2.06.94zm10 10l.94 2.06.94-2.06 2.06-.94-2.06-.94-.94-2.06-.94 2.06-2.06.94z\"/><path d=\"M17.41 7.96l-1.37-1.37c-.4-.4-.92-.59-1.43-.59-.52 0-1.04.2-1.43.59L10.3 9.45l-7.72 7.72c-.78.78-.78 2.05 0 2.83L4 21.41c.39.39.9.59 1.41.59.51 0 1.02-.2 1.41-.59l7.78-7.78 2.81-2.81c.8-.78.8-2.07 0-2.86zM5.41 20L4 18.59l7.72-7.72 1.47 1.35L5.41 20z\"/>\n",
              "  </svg>\n",
              "      </button>\n",
              "      \n",
              "  <style>\n",
              "    .colab-df-container {\n",
              "      display:flex;\n",
              "      flex-wrap:wrap;\n",
              "      gap: 12px;\n",
              "    }\n",
              "\n",
              "    .colab-df-convert {\n",
              "      background-color: #E8F0FE;\n",
              "      border: none;\n",
              "      border-radius: 50%;\n",
              "      cursor: pointer;\n",
              "      display: none;\n",
              "      fill: #1967D2;\n",
              "      height: 32px;\n",
              "      padding: 0 0 0 0;\n",
              "      width: 32px;\n",
              "    }\n",
              "\n",
              "    .colab-df-convert:hover {\n",
              "      background-color: #E2EBFA;\n",
              "      box-shadow: 0px 1px 2px rgba(60, 64, 67, 0.3), 0px 1px 3px 1px rgba(60, 64, 67, 0.15);\n",
              "      fill: #174EA6;\n",
              "    }\n",
              "\n",
              "    [theme=dark] .colab-df-convert {\n",
              "      background-color: #3B4455;\n",
              "      fill: #D2E3FC;\n",
              "    }\n",
              "\n",
              "    [theme=dark] .colab-df-convert:hover {\n",
              "      background-color: #434B5C;\n",
              "      box-shadow: 0px 1px 3px 1px rgba(0, 0, 0, 0.15);\n",
              "      filter: drop-shadow(0px 1px 2px rgba(0, 0, 0, 0.3));\n",
              "      fill: #FFFFFF;\n",
              "    }\n",
              "  </style>\n",
              "\n",
              "      <script>\n",
              "        const buttonEl =\n",
              "          document.querySelector('#df-2ecaa4ee-3aef-4427-ad88-b03cb081af1b button.colab-df-convert');\n",
              "        buttonEl.style.display =\n",
              "          google.colab.kernel.accessAllowed ? 'block' : 'none';\n",
              "\n",
              "        async function convertToInteractive(key) {\n",
              "          const element = document.querySelector('#df-2ecaa4ee-3aef-4427-ad88-b03cb081af1b');\n",
              "          const dataTable =\n",
              "            await google.colab.kernel.invokeFunction('convertToInteractive',\n",
              "                                                     [key], {});\n",
              "          if (!dataTable) return;\n",
              "\n",
              "          const docLinkHtml = 'Like what you see? Visit the ' +\n",
              "            '<a target=\"_blank\" href=https://colab.research.google.com/notebooks/data_table.ipynb>data table notebook</a>'\n",
              "            + ' to learn more about interactive tables.';\n",
              "          element.innerHTML = '';\n",
              "          dataTable['output_type'] = 'display_data';\n",
              "          await google.colab.output.renderOutput(dataTable, element);\n",
              "          const docLink = document.createElement('div');\n",
              "          docLink.innerHTML = docLinkHtml;\n",
              "          element.appendChild(docLink);\n",
              "        }\n",
              "      </script>\n",
              "    </div>\n",
              "  </div>\n",
              "  "
            ]
          },
          "metadata": {},
          "execution_count": 5
        }
      ]
    },
    {
      "cell_type": "code",
      "source": [
        "import numpy as np\n",
        "df['Glucose']=np.where(df['Glucose']==0,df['Glucose'].median(),df['Glucose'])\n",
        "df['Insulin']=np.where(df['Insulin']==0,df['Insulin'].median(),df['Insulin'])\n",
        "df['SkinThickness']=np.where(df['SkinThickness']==0,df['SkinThickness'].median(),df['SkinThickness'])\n",
        "\n",
        "df.head()"
      ],
      "metadata": {
        "colab": {
          "base_uri": "https://localhost:8080/",
          "height": 206
        },
        "id": "OCfYO2h0wIAd",
        "outputId": "f6e726d6-22da-42d3-b2da-b3ad5961dc1d"
      },
      "execution_count": 6,
      "outputs": [
        {
          "output_type": "execute_result",
          "data": {
            "text/plain": [
              "   Pregnancies  Glucose  BloodPressure  SkinThickness  Insulin   BMI  \\\n",
              "0            6    148.0             72           35.0     30.5  33.6   \n",
              "1            1     85.0             66           29.0     30.5  26.6   \n",
              "2            8    183.0             64           23.0     30.5  23.3   \n",
              "3            1     89.0             66           23.0     94.0  28.1   \n",
              "4            0    137.0             40           35.0    168.0  43.1   \n",
              "\n",
              "   DiabetesPedigreeFunction  Age  Outcome  \n",
              "0                     0.627   50        1  \n",
              "1                     0.351   31        0  \n",
              "2                     0.672   32        1  \n",
              "3                     0.167   21        0  \n",
              "4                     2.288   33        1  "
            ],
            "text/html": [
              "\n",
              "  <div id=\"df-cf5ca640-d46f-4a74-b6ca-a5d01918e2c6\">\n",
              "    <div class=\"colab-df-container\">\n",
              "      <div>\n",
              "<style scoped>\n",
              "    .dataframe tbody tr th:only-of-type {\n",
              "        vertical-align: middle;\n",
              "    }\n",
              "\n",
              "    .dataframe tbody tr th {\n",
              "        vertical-align: top;\n",
              "    }\n",
              "\n",
              "    .dataframe thead th {\n",
              "        text-align: right;\n",
              "    }\n",
              "</style>\n",
              "<table border=\"1\" class=\"dataframe\">\n",
              "  <thead>\n",
              "    <tr style=\"text-align: right;\">\n",
              "      <th></th>\n",
              "      <th>Pregnancies</th>\n",
              "      <th>Glucose</th>\n",
              "      <th>BloodPressure</th>\n",
              "      <th>SkinThickness</th>\n",
              "      <th>Insulin</th>\n",
              "      <th>BMI</th>\n",
              "      <th>DiabetesPedigreeFunction</th>\n",
              "      <th>Age</th>\n",
              "      <th>Outcome</th>\n",
              "    </tr>\n",
              "  </thead>\n",
              "  <tbody>\n",
              "    <tr>\n",
              "      <th>0</th>\n",
              "      <td>6</td>\n",
              "      <td>148.0</td>\n",
              "      <td>72</td>\n",
              "      <td>35.0</td>\n",
              "      <td>30.5</td>\n",
              "      <td>33.6</td>\n",
              "      <td>0.627</td>\n",
              "      <td>50</td>\n",
              "      <td>1</td>\n",
              "    </tr>\n",
              "    <tr>\n",
              "      <th>1</th>\n",
              "      <td>1</td>\n",
              "      <td>85.0</td>\n",
              "      <td>66</td>\n",
              "      <td>29.0</td>\n",
              "      <td>30.5</td>\n",
              "      <td>26.6</td>\n",
              "      <td>0.351</td>\n",
              "      <td>31</td>\n",
              "      <td>0</td>\n",
              "    </tr>\n",
              "    <tr>\n",
              "      <th>2</th>\n",
              "      <td>8</td>\n",
              "      <td>183.0</td>\n",
              "      <td>64</td>\n",
              "      <td>23.0</td>\n",
              "      <td>30.5</td>\n",
              "      <td>23.3</td>\n",
              "      <td>0.672</td>\n",
              "      <td>32</td>\n",
              "      <td>1</td>\n",
              "    </tr>\n",
              "    <tr>\n",
              "      <th>3</th>\n",
              "      <td>1</td>\n",
              "      <td>89.0</td>\n",
              "      <td>66</td>\n",
              "      <td>23.0</td>\n",
              "      <td>94.0</td>\n",
              "      <td>28.1</td>\n",
              "      <td>0.167</td>\n",
              "      <td>21</td>\n",
              "      <td>0</td>\n",
              "    </tr>\n",
              "    <tr>\n",
              "      <th>4</th>\n",
              "      <td>0</td>\n",
              "      <td>137.0</td>\n",
              "      <td>40</td>\n",
              "      <td>35.0</td>\n",
              "      <td>168.0</td>\n",
              "      <td>43.1</td>\n",
              "      <td>2.288</td>\n",
              "      <td>33</td>\n",
              "      <td>1</td>\n",
              "    </tr>\n",
              "  </tbody>\n",
              "</table>\n",
              "</div>\n",
              "      <button class=\"colab-df-convert\" onclick=\"convertToInteractive('df-cf5ca640-d46f-4a74-b6ca-a5d01918e2c6')\"\n",
              "              title=\"Convert this dataframe to an interactive table.\"\n",
              "              style=\"display:none;\">\n",
              "        \n",
              "  <svg xmlns=\"http://www.w3.org/2000/svg\" height=\"24px\"viewBox=\"0 0 24 24\"\n",
              "       width=\"24px\">\n",
              "    <path d=\"M0 0h24v24H0V0z\" fill=\"none\"/>\n",
              "    <path d=\"M18.56 5.44l.94 2.06.94-2.06 2.06-.94-2.06-.94-.94-2.06-.94 2.06-2.06.94zm-11 1L8.5 8.5l.94-2.06 2.06-.94-2.06-.94L8.5 2.5l-.94 2.06-2.06.94zm10 10l.94 2.06.94-2.06 2.06-.94-2.06-.94-.94-2.06-.94 2.06-2.06.94z\"/><path d=\"M17.41 7.96l-1.37-1.37c-.4-.4-.92-.59-1.43-.59-.52 0-1.04.2-1.43.59L10.3 9.45l-7.72 7.72c-.78.78-.78 2.05 0 2.83L4 21.41c.39.39.9.59 1.41.59.51 0 1.02-.2 1.41-.59l7.78-7.78 2.81-2.81c.8-.78.8-2.07 0-2.86zM5.41 20L4 18.59l7.72-7.72 1.47 1.35L5.41 20z\"/>\n",
              "  </svg>\n",
              "      </button>\n",
              "      \n",
              "  <style>\n",
              "    .colab-df-container {\n",
              "      display:flex;\n",
              "      flex-wrap:wrap;\n",
              "      gap: 12px;\n",
              "    }\n",
              "\n",
              "    .colab-df-convert {\n",
              "      background-color: #E8F0FE;\n",
              "      border: none;\n",
              "      border-radius: 50%;\n",
              "      cursor: pointer;\n",
              "      display: none;\n",
              "      fill: #1967D2;\n",
              "      height: 32px;\n",
              "      padding: 0 0 0 0;\n",
              "      width: 32px;\n",
              "    }\n",
              "\n",
              "    .colab-df-convert:hover {\n",
              "      background-color: #E2EBFA;\n",
              "      box-shadow: 0px 1px 2px rgba(60, 64, 67, 0.3), 0px 1px 3px 1px rgba(60, 64, 67, 0.15);\n",
              "      fill: #174EA6;\n",
              "    }\n",
              "\n",
              "    [theme=dark] .colab-df-convert {\n",
              "      background-color: #3B4455;\n",
              "      fill: #D2E3FC;\n",
              "    }\n",
              "\n",
              "    [theme=dark] .colab-df-convert:hover {\n",
              "      background-color: #434B5C;\n",
              "      box-shadow: 0px 1px 3px 1px rgba(0, 0, 0, 0.15);\n",
              "      filter: drop-shadow(0px 1px 2px rgba(0, 0, 0, 0.3));\n",
              "      fill: #FFFFFF;\n",
              "    }\n",
              "  </style>\n",
              "\n",
              "      <script>\n",
              "        const buttonEl =\n",
              "          document.querySelector('#df-cf5ca640-d46f-4a74-b6ca-a5d01918e2c6 button.colab-df-convert');\n",
              "        buttonEl.style.display =\n",
              "          google.colab.kernel.accessAllowed ? 'block' : 'none';\n",
              "\n",
              "        async function convertToInteractive(key) {\n",
              "          const element = document.querySelector('#df-cf5ca640-d46f-4a74-b6ca-a5d01918e2c6');\n",
              "          const dataTable =\n",
              "            await google.colab.kernel.invokeFunction('convertToInteractive',\n",
              "                                                     [key], {});\n",
              "          if (!dataTable) return;\n",
              "\n",
              "          const docLinkHtml = 'Like what you see? Visit the ' +\n",
              "            '<a target=\"_blank\" href=https://colab.research.google.com/notebooks/data_table.ipynb>data table notebook</a>'\n",
              "            + ' to learn more about interactive tables.';\n",
              "          element.innerHTML = '';\n",
              "          dataTable['output_type'] = 'display_data';\n",
              "          await google.colab.output.renderOutput(dataTable, element);\n",
              "          const docLink = document.createElement('div');\n",
              "          docLink.innerHTML = docLinkHtml;\n",
              "          element.appendChild(docLink);\n",
              "        }\n",
              "      </script>\n",
              "    </div>\n",
              "  </div>\n",
              "  "
            ]
          },
          "metadata": {},
          "execution_count": 6
        }
      ]
    },
    {
      "cell_type": "code",
      "source": [
        "#### Independent And Dependent features\n",
        "X=df.drop('Outcome',axis=1)\n",
        "y=df['Outcome']"
      ],
      "metadata": {
        "id": "POlExXwF02w9"
      },
      "execution_count": 7,
      "outputs": []
    },
    {
      "cell_type": "code",
      "source": [
        "#### Train Test Split\n",
        "from sklearn.model_selection import train_test_split\n",
        "X_train,X_test,y_train,y_test=train_test_split(X,y,test_size=0.20,random_state=0)"
      ],
      "metadata": {
        "id": "H0VXuoEI76pX"
      },
      "execution_count": 8,
      "outputs": []
    },
    {
      "cell_type": "code",
      "source": [
        "from sklearn.ensemble import RandomForestClassifier\n",
        "rf_classifier=RandomForestClassifier(n_estimators=10).fit(X_train,y_train)\n",
        "prediction=rf_classifier.predict(X_test)"
      ],
      "metadata": {
        "id": "2m-QHC8194bk"
      },
      "execution_count": 9,
      "outputs": []
    },
    {
      "cell_type": "code",
      "source": [
        "y.value_counts()"
      ],
      "metadata": {
        "id": "OSbZS2tQ983w",
        "outputId": "3f37128e-e385-426d-b6a1-5204984fac00",
        "colab": {
          "base_uri": "https://localhost:8080/"
        }
      },
      "execution_count": 10,
      "outputs": [
        {
          "output_type": "execute_result",
          "data": {
            "text/plain": [
              "0    500\n",
              "1    268\n",
              "Name: Outcome, dtype: int64"
            ]
          },
          "metadata": {},
          "execution_count": 10
        }
      ]
    },
    {
      "cell_type": "code",
      "source": [
        "from sklearn.metrics import confusion_matrix,classification_report,accuracy_score\n",
        "print(confusion_matrix(y_test,prediction))\n",
        "print(accuracy_score(y_test,prediction))\n",
        "print(classification_report(y_test,prediction))"
      ],
      "metadata": {
        "id": "i4Q9d3eU-GMc",
        "outputId": "b3c50706-e80f-48bb-bf48-303cdb32c665",
        "colab": {
          "base_uri": "https://localhost:8080/"
        }
      },
      "execution_count": 11,
      "outputs": [
        {
          "output_type": "stream",
          "name": "stdout",
          "text": [
            "[[96 11]\n",
            " [18 29]]\n",
            "0.8116883116883117\n",
            "              precision    recall  f1-score   support\n",
            "\n",
            "           0       0.84      0.90      0.87       107\n",
            "           1       0.72      0.62      0.67        47\n",
            "\n",
            "    accuracy                           0.81       154\n",
            "   macro avg       0.78      0.76      0.77       154\n",
            "weighted avg       0.81      0.81      0.81       154\n",
            "\n"
          ]
        }
      ]
    },
    {
      "cell_type": "markdown",
      "source": [
        "The main parameters used by a Random Forest Classifier are:\n",
        "\n",
        "- criterion = the function used to evaluate the quality of a split.\n",
        "- max_depth = maximum number of levels allowed in each tree.\n",
        "- max_features = maximum number of features considered when splitting a node.\n",
        "- min_samples_leaf = minimum number of samples which can be stored in a tree leaf.\n",
        "- min_samples_split = minimum number of samples necessary in a node to cause node splitting.\n",
        "- n_estimators = number of trees in the ensemble."
      ],
      "metadata": {
        "id": "QYdchwcz-kpo"
      }
    },
    {
      "cell_type": "code",
      "source": [
        "### Manual Hyperparameter Tuning\n",
        "model=RandomForestClassifier(n_estimators=300,criterion='entropy',\n",
        "                             max_features='sqrt',min_samples_leaf=10,random_state=100).fit(X_train,y_train)\n",
        "predictions=model.predict(X_test)\n",
        "print(confusion_matrix(y_test,predictions))\n",
        "print(accuracy_score(y_test,predictions))\n",
        "print(classification_report(y_test,predictions))"
      ],
      "metadata": {
        "id": "HSXYEtFK-LTQ",
        "outputId": "cf3f61e8-ee42-4cd7-c3ea-7b11b2223954",
        "colab": {
          "base_uri": "https://localhost:8080/"
        }
      },
      "execution_count": 12,
      "outputs": [
        {
          "output_type": "stream",
          "name": "stdout",
          "text": [
            "[[97 10]\n",
            " [17 30]]\n",
            "0.8246753246753247\n",
            "              precision    recall  f1-score   support\n",
            "\n",
            "           0       0.85      0.91      0.88       107\n",
            "           1       0.75      0.64      0.69        47\n",
            "\n",
            "    accuracy                           0.82       154\n",
            "   macro avg       0.80      0.77      0.78       154\n",
            "weighted avg       0.82      0.82      0.82       154\n",
            "\n"
          ]
        }
      ]
    },
    {
      "cell_type": "markdown",
      "source": [
        "## RandomizedSearchCV"
      ],
      "metadata": {
        "id": "Jgc5oLSlB4Sf"
      }
    },
    {
      "cell_type": "code",
      "source": [
        "import numpy as np\n",
        "from sklearn.model_selection import RandomizedSearchCV\n",
        "# Number of trees in random forest\n",
        "n_estimators = [int(x) for x in np.linspace(start = 200, stop = 2000, num = 10)]\n",
        "# Number of features to consider at every split\n",
        "max_features = ['auto', 'sqrt','log2']\n",
        "# Maximum number of levels in tree\n",
        "max_depth = [int(x) for x in np.linspace(10, 1000,10)]\n",
        "# Minimum number of samples required to split a node\n",
        "min_samples_split = [1,3,4,5,7,9]\n",
        "# Minimum number of samples required at each leaf node\n",
        "min_samples_leaf = [1, 2, 4,6,8]\n",
        "# Create the random grid\n",
        "random_grid = {'n_estimators': n_estimators,\n",
        "               'max_features': max_features,\n",
        "               'max_depth': max_depth,\n",
        "               'min_samples_split': min_samples_split,\n",
        "               'min_samples_leaf': min_samples_leaf,\n",
        "              'criterion':['entropy','gini']}\n",
        "print(random_grid)"
      ],
      "metadata": {
        "id": "MV7MvuST-9Bj",
        "outputId": "83a9f0c9-467b-43dd-82ec-4f98bef33cae",
        "colab": {
          "base_uri": "https://localhost:8080/"
        }
      },
      "execution_count": 13,
      "outputs": [
        {
          "output_type": "stream",
          "name": "stdout",
          "text": [
            "{'n_estimators': [200, 400, 600, 800, 1000, 1200, 1400, 1600, 1800, 2000], 'max_features': ['auto', 'sqrt', 'log2'], 'max_depth': [10, 120, 230, 340, 450, 560, 670, 780, 890, 1000], 'min_samples_split': [1, 3, 4, 5, 7, 9], 'min_samples_leaf': [1, 2, 4, 6, 8], 'criterion': ['entropy', 'gini']}\n"
          ]
        }
      ]
    },
    {
      "cell_type": "code",
      "source": [
        "rf=RandomForestClassifier()\n",
        "rf_randomcv=RandomizedSearchCV(estimator=rf,param_distributions=random_grid,n_iter=100,cv=3,verbose=2,\n",
        "                               random_state=100,n_jobs=-1)\n",
        "### fit the randomized model\n",
        "rf_randomcv.fit(X_train,y_train)"
      ],
      "metadata": {
        "id": "mnnaR0aiDp31",
        "outputId": "4e7c3dda-eb45-469b-ebf8-257020bcc5fd",
        "colab": {
          "base_uri": "https://localhost:8080/"
        }
      },
      "execution_count": 14,
      "outputs": [
        {
          "output_type": "stream",
          "name": "stdout",
          "text": [
            "Fitting 3 folds for each of 100 candidates, totalling 300 fits\n"
          ]
        },
        {
          "output_type": "execute_result",
          "data": {
            "text/plain": [
              "RandomizedSearchCV(cv=3, estimator=RandomForestClassifier(), n_iter=100,\n",
              "                   n_jobs=-1,\n",
              "                   param_distributions={'criterion': ['entropy', 'gini'],\n",
              "                                        'max_depth': [10, 120, 230, 340, 450,\n",
              "                                                      560, 670, 780, 890,\n",
              "                                                      1000],\n",
              "                                        'max_features': ['auto', 'sqrt',\n",
              "                                                         'log2'],\n",
              "                                        'min_samples_leaf': [1, 2, 4, 6, 8],\n",
              "                                        'min_samples_split': [1, 3, 4, 5, 7, 9],\n",
              "                                        'n_estimators': [200, 400, 600, 800,\n",
              "                                                         1000, 1200, 1400, 1600,\n",
              "                                                         1800, 2000]},\n",
              "                   random_state=100, verbose=2)"
            ]
          },
          "metadata": {},
          "execution_count": 14
        }
      ]
    },
    {
      "cell_type": "code",
      "source": [
        "rf_randomcv.best_params_"
      ],
      "metadata": {
        "id": "LzMTZxCQEuQD",
        "outputId": "13ac7824-ef50-4a6c-dd97-df73b7512460",
        "colab": {
          "base_uri": "https://localhost:8080/"
        }
      },
      "execution_count": 15,
      "outputs": [
        {
          "output_type": "execute_result",
          "data": {
            "text/plain": [
              "{'criterion': 'entropy',\n",
              " 'max_depth': 890,\n",
              " 'max_features': 'auto',\n",
              " 'min_samples_leaf': 1,\n",
              " 'min_samples_split': 4,\n",
              " 'n_estimators': 400}"
            ]
          },
          "metadata": {},
          "execution_count": 15
        }
      ]
    },
    {
      "cell_type": "code",
      "source": [
        "rf_randomcv.best_estimator_"
      ],
      "metadata": {
        "id": "DLtHh9pbFc2n",
        "outputId": "14f61937-506c-4325-db8e-ab33036e1d5d",
        "colab": {
          "base_uri": "https://localhost:8080/"
        }
      },
      "execution_count": 16,
      "outputs": [
        {
          "output_type": "execute_result",
          "data": {
            "text/plain": [
              "RandomForestClassifier(criterion='entropy', max_depth=890, min_samples_split=4,\n",
              "                       n_estimators=400)"
            ]
          },
          "metadata": {},
          "execution_count": 16
        }
      ]
    },
    {
      "cell_type": "code",
      "source": [
        "best_random_grid=rf_randomcv.best_estimator_"
      ],
      "metadata": {
        "id": "YFox6SiJG-GP"
      },
      "execution_count": 17,
      "outputs": []
    },
    {
      "cell_type": "code",
      "source": [
        "from sklearn.metrics import accuracy_score\n",
        "y_pred=best_random_grid.predict(X_test)\n",
        "print(confusion_matrix(y_test,y_pred))\n",
        "print(\"Accuracy Score {}\".format(accuracy_score(y_test,y_pred)))\n",
        "print(\"Classification report: {}\".format(classification_report(y_test,y_pred)))"
      ],
      "metadata": {
        "id": "8u5FZBIMHrgs",
        "outputId": "8ad19802-8606-475a-a7ae-5a9cbf6540cb",
        "colab": {
          "base_uri": "https://localhost:8080/"
        }
      },
      "execution_count": 18,
      "outputs": [
        {
          "output_type": "stream",
          "name": "stdout",
          "text": [
            "[[94 13]\n",
            " [12 35]]\n",
            "Accuracy Score 0.8376623376623377\n",
            "Classification report:               precision    recall  f1-score   support\n",
            "\n",
            "           0       0.89      0.88      0.88       107\n",
            "           1       0.73      0.74      0.74        47\n",
            "\n",
            "    accuracy                           0.84       154\n",
            "   macro avg       0.81      0.81      0.81       154\n",
            "weighted avg       0.84      0.84      0.84       154\n",
            "\n"
          ]
        }
      ]
    },
    {
      "cell_type": "markdown",
      "source": [
        "## GridSearchCV"
      ],
      "metadata": {
        "id": "Ds2Xl-PCB_yM"
      }
    },
    {
      "cell_type": "code",
      "source": [
        "from sklearn.model_selection import GridSearchCV\n",
        "\n",
        "param_grid = {\n",
        "    'criterion': [rf_randomcv.best_params_['criterion']],\n",
        "    'max_depth': [rf_randomcv.best_params_['max_depth']],\n",
        "    'max_features': [rf_randomcv.best_params_['max_features']],\n",
        "    'min_samples_leaf': [rf_randomcv.best_params_['min_samples_leaf'], \n",
        "                         rf_randomcv.best_params_['min_samples_leaf']+2, \n",
        "                         rf_randomcv.best_params_['min_samples_leaf'] + 4],\n",
        "    'min_samples_split': [rf_randomcv.best_params_['min_samples_split'] - 2,\n",
        "                          rf_randomcv.best_params_['min_samples_split'] - 1,\n",
        "                          rf_randomcv.best_params_['min_samples_split'], \n",
        "                          rf_randomcv.best_params_['min_samples_split'] +1,\n",
        "                          rf_randomcv.best_params_['min_samples_split'] + 2],\n",
        "    'n_estimators': [rf_randomcv.best_params_['n_estimators'] - 200, rf_randomcv.best_params_['n_estimators'] - 100, \n",
        "                     rf_randomcv.best_params_['n_estimators'], \n",
        "                     rf_randomcv.best_params_['n_estimators'] + 100, rf_randomcv.best_params_['n_estimators'] + 200]\n",
        "}\n",
        "\n",
        "print(param_grid)"
      ],
      "metadata": {
        "id": "ircSH6hFH0F1",
        "outputId": "a8c5f5d9-0b69-4b85-cd47-b62d5c3d0f18",
        "colab": {
          "base_uri": "https://localhost:8080/"
        }
      },
      "execution_count": 19,
      "outputs": [
        {
          "output_type": "stream",
          "name": "stdout",
          "text": [
            "{'criterion': ['entropy'], 'max_depth': [890], 'max_features': ['auto'], 'min_samples_leaf': [1, 3, 5], 'min_samples_split': [2, 3, 4, 5, 6], 'n_estimators': [200, 300, 400, 500, 600]}\n"
          ]
        }
      ]
    },
    {
      "cell_type": "code",
      "source": [
        "rf=RandomForestClassifier()\n",
        "grid_search=GridSearchCV(estimator=rf,param_grid=param_grid,cv=10,n_jobs=-1,verbose=2)\n",
        "grid_search.fit(X_train,y_train)"
      ],
      "metadata": {
        "id": "XuBYfOe_I0pJ",
        "outputId": "ddf5854d-5f68-4272-84de-65d644de66cb",
        "colab": {
          "base_uri": "https://localhost:8080/"
        }
      },
      "execution_count": 20,
      "outputs": [
        {
          "output_type": "stream",
          "name": "stdout",
          "text": [
            "Fitting 10 folds for each of 75 candidates, totalling 750 fits\n"
          ]
        },
        {
          "output_type": "execute_result",
          "data": {
            "text/plain": [
              "GridSearchCV(cv=10, estimator=RandomForestClassifier(), n_jobs=-1,\n",
              "             param_grid={'criterion': ['entropy'], 'max_depth': [890],\n",
              "                         'max_features': ['auto'],\n",
              "                         'min_samples_leaf': [1, 3, 5],\n",
              "                         'min_samples_split': [2, 3, 4, 5, 6],\n",
              "                         'n_estimators': [200, 300, 400, 500, 600]},\n",
              "             verbose=2)"
            ]
          },
          "metadata": {},
          "execution_count": 20
        }
      ]
    },
    {
      "cell_type": "code",
      "source": [
        "grid_search.best_estimator_"
      ],
      "metadata": {
        "id": "lptJuUmaMZE4",
        "outputId": "fb891f22-c1cb-4e23-aa07-94606327e298",
        "colab": {
          "base_uri": "https://localhost:8080/"
        }
      },
      "execution_count": 21,
      "outputs": [
        {
          "output_type": "execute_result",
          "data": {
            "text/plain": [
              "RandomForestClassifier(criterion='entropy', max_depth=890, min_samples_leaf=3,\n",
              "                       min_samples_split=3, n_estimators=300)"
            ]
          },
          "metadata": {},
          "execution_count": 21
        }
      ]
    },
    {
      "cell_type": "code",
      "source": [
        "best_grid = grid_search.best_estimator_"
      ],
      "metadata": {
        "id": "JNzkyq_qMpAS"
      },
      "execution_count": 22,
      "outputs": []
    },
    {
      "cell_type": "code",
      "source": [
        "best_grid"
      ],
      "metadata": {
        "id": "Bs7ZZt3IMviP",
        "outputId": "2165a625-5c35-4cb6-bb0d-4bf1cac2b140",
        "colab": {
          "base_uri": "https://localhost:8080/"
        }
      },
      "execution_count": 23,
      "outputs": [
        {
          "output_type": "execute_result",
          "data": {
            "text/plain": [
              "RandomForestClassifier(criterion='entropy', max_depth=890, min_samples_leaf=3,\n",
              "                       min_samples_split=3, n_estimators=300)"
            ]
          },
          "metadata": {},
          "execution_count": 23
        }
      ]
    },
    {
      "cell_type": "code",
      "source": [
        "y_pred=best_grid.predict(X_test)\n",
        "print(confusion_matrix(y_test,y_pred))\n",
        "print(\"Accuracy Score {}\".format(accuracy_score(y_test,y_pred)))\n",
        "print(\"Classification report: {}\".format(classification_report(y_test,y_pred)))"
      ],
      "metadata": {
        "id": "wOEN8QeYM0l9",
        "outputId": "c05a7938-1209-414b-ca23-485332eac8b8",
        "colab": {
          "base_uri": "https://localhost:8080/"
        }
      },
      "execution_count": 24,
      "outputs": [
        {
          "output_type": "stream",
          "name": "stdout",
          "text": [
            "[[96 11]\n",
            " [15 32]]\n",
            "Accuracy Score 0.8311688311688312\n",
            "Classification report:               precision    recall  f1-score   support\n",
            "\n",
            "           0       0.86      0.90      0.88       107\n",
            "           1       0.74      0.68      0.71        47\n",
            "\n",
            "    accuracy                           0.83       154\n",
            "   macro avg       0.80      0.79      0.80       154\n",
            "weighted avg       0.83      0.83      0.83       154\n",
            "\n"
          ]
        }
      ]
    },
    {
      "cell_type": "markdown",
      "source": [
        "### Automated Hyperparameter Tuning\n",
        "Automated Hyperparameter Tuning can be done by using techniques such as \n",
        "- Bayesian Optimization\n",
        "- Gradient Descent\n",
        "- Evolutionary Algorithms"
      ],
      "metadata": {
        "id": "ZlaLkTkcM6bw"
      }
    },
    {
      "cell_type": "markdown",
      "source": [
        "#### Bayesian Optimization\n",
        "Bayesian optimization uses probability to find the minimum of a function. The final aim is to find the input value to a function which can gives us the lowest possible output value.It usually performs better than random,grid and manual search providing better performance in the testing phase and reduced optimization time.\n",
        "In Hyperopt, Bayesian Optimization can be implemented giving 3 three main parameters to the function fmin.\n",
        "\n",
        "- Objective Function = defines the loss function to minimize.\n",
        "- Domain Space = defines the range of input values to test (in Bayesian Optimization this space creates a probability distribution for each of the used Hyperparameters).\n",
        "- Optimization Algorithm = defines the search algorithm to use to select the best input values to use in each new iteration."
      ],
      "metadata": {
        "id": "35A8kpmRPAh1"
      }
    },
    {
      "cell_type": "code",
      "source": [
        "!pip install hyperopt"
      ],
      "metadata": {
        "id": "FLKlCUWeWPha",
        "outputId": "214ef501-104d-4c62-b7b3-45dd0d60b459",
        "colab": {
          "base_uri": "https://localhost:8080/"
        }
      },
      "execution_count": 25,
      "outputs": [
        {
          "output_type": "stream",
          "name": "stdout",
          "text": [
            "Requirement already satisfied: hyperopt in /usr/local/lib/python3.7/dist-packages (0.1.2)\n",
            "Requirement already satisfied: scipy in /usr/local/lib/python3.7/dist-packages (from hyperopt) (1.4.1)\n",
            "Requirement already satisfied: six in /usr/local/lib/python3.7/dist-packages (from hyperopt) (1.15.0)\n",
            "Requirement already satisfied: tqdm in /usr/local/lib/python3.7/dist-packages (from hyperopt) (4.64.0)\n",
            "Requirement already satisfied: future in /usr/local/lib/python3.7/dist-packages (from hyperopt) (0.16.0)\n",
            "Requirement already satisfied: pymongo in /usr/local/lib/python3.7/dist-packages (from hyperopt) (4.1.1)\n",
            "Requirement already satisfied: numpy in /usr/local/lib/python3.7/dist-packages (from hyperopt) (1.21.6)\n",
            "Requirement already satisfied: networkx in /usr/local/lib/python3.7/dist-packages (from hyperopt) (2.6.3)\n"
          ]
        }
      ]
    },
    {
      "cell_type": "code",
      "source": [
        "from hyperopt import hp,fmin,tpe,STATUS_OK,Trials"
      ],
      "metadata": {
        "id": "mZEDdpvuWT-g"
      },
      "execution_count": 26,
      "outputs": []
    },
    {
      "cell_type": "code",
      "source": [
        "space = {'criterion': hp.choice('criterion', ['entropy', 'gini']),\n",
        "        'max_depth': hp.quniform('max_depth', 10, 1200, 10),\n",
        "        'max_features': hp.choice('max_features', ['auto', 'sqrt','log2', None]),\n",
        "        'min_samples_leaf': hp.uniform('min_samples_leaf', 0, 0.5),\n",
        "        'min_samples_split' : hp.uniform ('min_samples_split', 0, 1),\n",
        "        'n_estimators' : hp.choice('n_estimators', [10, 50, 300, 750, 1200,1300,1500])\n",
        "    }"
      ],
      "metadata": {
        "id": "VdFHv4w4XRpm"
      },
      "execution_count": 27,
      "outputs": []
    },
    {
      "cell_type": "code",
      "source": [
        "space"
      ],
      "metadata": {
        "id": "ESqoRUllXXql",
        "outputId": "b708d267-3376-48b6-8580-6f50795278a6",
        "colab": {
          "base_uri": "https://localhost:8080/"
        }
      },
      "execution_count": 28,
      "outputs": [
        {
          "output_type": "execute_result",
          "data": {
            "text/plain": [
              "{'criterion': <hyperopt.pyll.base.Apply at 0x7f33ae336810>,\n",
              " 'max_depth': <hyperopt.pyll.base.Apply at 0x7f33ae336a50>,\n",
              " 'max_features': <hyperopt.pyll.base.Apply at 0x7f33ae336b90>,\n",
              " 'min_samples_leaf': <hyperopt.pyll.base.Apply at 0x7f33ae336e50>,\n",
              " 'min_samples_split': <hyperopt.pyll.base.Apply at 0x7f33ae336fd0>,\n",
              " 'n_estimators': <hyperopt.pyll.base.Apply at 0x7f33ae33a190>}"
            ]
          },
          "metadata": {},
          "execution_count": 28
        }
      ]
    },
    {
      "cell_type": "code",
      "source": [
        "def objective(space):\n",
        "    model = RandomForestClassifier(criterion = space['criterion'], max_depth = space['max_depth'],\n",
        "                                 max_features = space['max_features'],\n",
        "                                 min_samples_leaf = space['min_samples_leaf'],\n",
        "                                 min_samples_split = space['min_samples_split'],\n",
        "                                 n_estimators = space['n_estimators'], \n",
        "                                 )\n",
        "    \n",
        "    accuracy = cross_val_score(model, X_train, y_train, cv = 5).mean()\n",
        "\n",
        "    # We aim to maximize accuracy, therefore we return it as a negative value\n",
        "    return {'loss': -accuracy, 'status': STATUS_OK }"
      ],
      "metadata": {
        "id": "U_nce3PxXbAr"
      },
      "execution_count": 29,
      "outputs": []
    },
    {
      "cell_type": "code",
      "source": [
        "from sklearn.model_selection import cross_val_score\n",
        "trials = Trials()\n",
        "best = fmin(fn= objective,\n",
        "            space= space,\n",
        "            algo= tpe.suggest,\n",
        "            max_evals = 80,\n",
        "            trials= trials)\n",
        "best"
      ],
      "metadata": {
        "id": "vrskRGzbXiGv",
        "outputId": "8116e5db-38a0-4901-f5b3-a36fdb88861f",
        "colab": {
          "base_uri": "https://localhost:8080/"
        }
      },
      "execution_count": 30,
      "outputs": [
        {
          "output_type": "stream",
          "name": "stdout",
          "text": [
            "100%|██████████| 80/80 [07:56<00:00,  5.95s/it, best loss: -0.7671064907370386]\n"
          ]
        },
        {
          "output_type": "execute_result",
          "data": {
            "text/plain": [
              "{'criterion': 1,\n",
              " 'max_depth': 1140.0,\n",
              " 'max_features': 2,\n",
              " 'min_samples_leaf': 0.08469721128211062,\n",
              " 'min_samples_split': 0.10088760921177602,\n",
              " 'n_estimators': 2}"
            ]
          },
          "metadata": {},
          "execution_count": 30
        }
      ]
    },
    {
      "cell_type": "code",
      "source": [
        "crit = {0: 'entropy', 1: 'gini'}\n",
        "feat = {0: 'auto', 1: 'sqrt', 2: 'log2', 3: None}\n",
        "est = {0: 10, 1: 50, 2: 300, 3: 750, 4: 1200,5:1300,6:1500}\n",
        "\n",
        "\n",
        "print(crit[best['criterion']])\n",
        "print(feat[best['max_features']])\n",
        "print(est[best['n_estimators']])"
      ],
      "metadata": {
        "id": "uH14PwPqXm0m",
        "outputId": "e357baab-a267-49db-983a-37312504cc54",
        "colab": {
          "base_uri": "https://localhost:8080/"
        }
      },
      "execution_count": 31,
      "outputs": [
        {
          "output_type": "stream",
          "name": "stdout",
          "text": [
            "gini\n",
            "log2\n",
            "300\n"
          ]
        }
      ]
    },
    {
      "cell_type": "code",
      "source": [
        "best['min_samples_leaf']"
      ],
      "metadata": {
        "id": "Hi9Xt3exX0KK",
        "outputId": "527e5ef9-9ef5-4c8d-c968-f1e1d65b63ad",
        "colab": {
          "base_uri": "https://localhost:8080/"
        }
      },
      "execution_count": 32,
      "outputs": [
        {
          "output_type": "execute_result",
          "data": {
            "text/plain": [
              "0.08469721128211062"
            ]
          },
          "metadata": {},
          "execution_count": 32
        }
      ]
    },
    {
      "cell_type": "code",
      "source": [
        "trainedforest = RandomForestClassifier(criterion = crit[best['criterion']], max_depth = best['max_depth'], \n",
        "                                       max_features = feat[best['max_features']], \n",
        "                                       min_samples_leaf = best['min_samples_leaf'], \n",
        "                                       min_samples_split = best['min_samples_split'], \n",
        "                                       n_estimators = est[best['n_estimators']]).fit(X_train,y_train)\n",
        "predictionforest = trainedforest.predict(X_test)\n",
        "print(confusion_matrix(y_test,predictionforest))\n",
        "print(accuracy_score(y_test,predictionforest))\n",
        "print(classification_report(y_test,predictionforest))\n",
        "acc5 = accuracy_score(y_test,predictionforest)"
      ],
      "metadata": {
        "id": "x-fXpa6rX4jJ",
        "outputId": "eda37668-984e-4c08-bfdc-a2900524cef8",
        "colab": {
          "base_uri": "https://localhost:8080/"
        }
      },
      "execution_count": 33,
      "outputs": [
        {
          "output_type": "stream",
          "name": "stdout",
          "text": [
            "[[97 10]\n",
            " [23 24]]\n",
            "0.7857142857142857\n",
            "              precision    recall  f1-score   support\n",
            "\n",
            "           0       0.81      0.91      0.85       107\n",
            "           1       0.71      0.51      0.59        47\n",
            "\n",
            "    accuracy                           0.79       154\n",
            "   macro avg       0.76      0.71      0.72       154\n",
            "weighted avg       0.78      0.79      0.77       154\n",
            "\n"
          ]
        }
      ]
    },
    {
      "cell_type": "markdown",
      "source": [
        "#### Genetic Algorithms\n",
        "Genetic Algorithms tries to apply natural selection mechanisms to Machine Learning contexts.\n",
        "\n",
        "Let's immagine we create a population of N Machine Learning models with some predifined Hyperparameters. We can then calculate the accuracy of each model and decide to keep just half of the models (the ones that performs best). We can now generate some offsprings having similar Hyperparameters to the ones of the best models so that go get again a population of N models. At this point we can again caltulate the accuracy of each model and repeate the cycle for a defined number of generations. In this way, just the best models will survive at the end of the process."
      ],
      "metadata": {
        "id": "bB5uB6I3dsbk"
      }
    },
    {
      "cell_type": "code",
      "source": [
        "import numpy as np\n",
        "from sklearn.model_selection import RandomizedSearchCV\n",
        "# Number of trees in random forest\n",
        "n_estimators = [int(x) for x in np.linspace(start = 200, stop = 2000, num = 10)]\n",
        "# Number of features to consider at every split\n",
        "max_features = ['auto', 'sqrt','log2']\n",
        "# Maximum number of levels in tree\n",
        "max_depth = [int(x) for x in np.linspace(10, 1000,10)]\n",
        "# Minimum number of samples required to split a node\n",
        "min_samples_split = [2, 5, 10,14]\n",
        "# Minimum number of samples required at each leaf node\n",
        "min_samples_leaf = [1, 2, 4,6,8]\n",
        "# Create the random grid\n",
        "param = {'n_estimators': n_estimators,\n",
        "               'max_features': max_features,\n",
        "               'max_depth': max_depth,\n",
        "               'min_samples_split': min_samples_split,\n",
        "               'min_samples_leaf': min_samples_leaf,\n",
        "              'criterion':['entropy','gini']}\n",
        "print(param)"
      ],
      "metadata": {
        "id": "mSqD-Zw4doPN",
        "outputId": "97b4ea34-69e4-4ae3-9e20-f55e2c6c86f0",
        "colab": {
          "base_uri": "https://localhost:8080/"
        }
      },
      "execution_count": 34,
      "outputs": [
        {
          "output_type": "stream",
          "name": "stdout",
          "text": [
            "{'n_estimators': [200, 400, 600, 800, 1000, 1200, 1400, 1600, 1800, 2000], 'max_features': ['auto', 'sqrt', 'log2'], 'max_depth': [10, 120, 230, 340, 450, 560, 670, 780, 890, 1000], 'min_samples_split': [2, 5, 10, 14], 'min_samples_leaf': [1, 2, 4, 6, 8], 'criterion': ['entropy', 'gini']}\n"
          ]
        }
      ]
    },
    {
      "cell_type": "code",
      "source": [
        "!pip install tpot"
      ],
      "metadata": {
        "id": "DFkPrC2VeDrA",
        "outputId": "feb9226d-cfd7-41f8-823b-0598d73175a5",
        "colab": {
          "base_uri": "https://localhost:8080/"
        }
      },
      "execution_count": 35,
      "outputs": [
        {
          "output_type": "stream",
          "name": "stdout",
          "text": [
            "Collecting tpot\n",
            "  Downloading TPOT-0.11.7-py3-none-any.whl (87 kB)\n",
            "\u001b[?25l\r\u001b[K     |███▊                            | 10 kB 10.6 MB/s eta 0:00:01\r\u001b[K     |███████▌                        | 20 kB 11.8 MB/s eta 0:00:01\r\u001b[K     |███████████▎                    | 30 kB 8.7 MB/s eta 0:00:01\r\u001b[K     |███████████████                 | 40 kB 7.5 MB/s eta 0:00:01\r\u001b[K     |██████████████████▉             | 51 kB 4.4 MB/s eta 0:00:01\r\u001b[K     |██████████████████████▋         | 61 kB 5.1 MB/s eta 0:00:01\r\u001b[K     |██████████████████████████▎     | 71 kB 5.6 MB/s eta 0:00:01\r\u001b[K     |██████████████████████████████  | 81 kB 5.7 MB/s eta 0:00:01\r\u001b[K     |████████████████████████████████| 87 kB 2.9 MB/s \n",
            "\u001b[?25hRequirement already satisfied: tqdm>=4.36.1 in /usr/local/lib/python3.7/dist-packages (from tpot) (4.64.0)\n",
            "Collecting deap>=1.2\n",
            "  Downloading deap-1.3.1-cp37-cp37m-manylinux_2_5_x86_64.manylinux1_x86_64.manylinux_2_12_x86_64.manylinux2010_x86_64.whl (160 kB)\n",
            "\u001b[K     |████████████████████████████████| 160 kB 33.2 MB/s \n",
            "\u001b[?25hCollecting xgboost>=1.1.0\n",
            "  Downloading xgboost-1.6.0-py3-none-manylinux2014_x86_64.whl (193.7 MB)\n",
            "\u001b[K     |████████████████████████████████| 193.7 MB 26 kB/s \n",
            "\u001b[?25hCollecting stopit>=1.1.1\n",
            "  Downloading stopit-1.1.2.tar.gz (18 kB)\n",
            "Requirement already satisfied: scikit-learn>=0.22.0 in /usr/local/lib/python3.7/dist-packages (from tpot) (1.0.2)\n",
            "Requirement already satisfied: scipy>=1.3.1 in /usr/local/lib/python3.7/dist-packages (from tpot) (1.4.1)\n",
            "Collecting update-checker>=0.16\n",
            "  Downloading update_checker-0.18.0-py3-none-any.whl (7.0 kB)\n",
            "Requirement already satisfied: pandas>=0.24.2 in /usr/local/lib/python3.7/dist-packages (from tpot) (1.3.5)\n",
            "Requirement already satisfied: joblib>=0.13.2 in /usr/local/lib/python3.7/dist-packages (from tpot) (1.1.0)\n",
            "Requirement already satisfied: numpy>=1.16.3 in /usr/local/lib/python3.7/dist-packages (from tpot) (1.21.6)\n",
            "Requirement already satisfied: python-dateutil>=2.7.3 in /usr/local/lib/python3.7/dist-packages (from pandas>=0.24.2->tpot) (2.8.2)\n",
            "Requirement already satisfied: pytz>=2017.3 in /usr/local/lib/python3.7/dist-packages (from pandas>=0.24.2->tpot) (2022.1)\n",
            "Requirement already satisfied: six>=1.5 in /usr/local/lib/python3.7/dist-packages (from python-dateutil>=2.7.3->pandas>=0.24.2->tpot) (1.15.0)\n",
            "Requirement already satisfied: threadpoolctl>=2.0.0 in /usr/local/lib/python3.7/dist-packages (from scikit-learn>=0.22.0->tpot) (3.1.0)\n",
            "Requirement already satisfied: requests>=2.3.0 in /usr/local/lib/python3.7/dist-packages (from update-checker>=0.16->tpot) (2.23.0)\n",
            "Requirement already satisfied: idna<3,>=2.5 in /usr/local/lib/python3.7/dist-packages (from requests>=2.3.0->update-checker>=0.16->tpot) (2.10)\n",
            "Requirement already satisfied: chardet<4,>=3.0.2 in /usr/local/lib/python3.7/dist-packages (from requests>=2.3.0->update-checker>=0.16->tpot) (3.0.4)\n",
            "Requirement already satisfied: certifi>=2017.4.17 in /usr/local/lib/python3.7/dist-packages (from requests>=2.3.0->update-checker>=0.16->tpot) (2021.10.8)\n",
            "Requirement already satisfied: urllib3!=1.25.0,!=1.25.1,<1.26,>=1.21.1 in /usr/local/lib/python3.7/dist-packages (from requests>=2.3.0->update-checker>=0.16->tpot) (1.24.3)\n",
            "Building wheels for collected packages: stopit\n",
            "  Building wheel for stopit (setup.py) ... \u001b[?25l\u001b[?25hdone\n",
            "  Created wheel for stopit: filename=stopit-1.1.2-py3-none-any.whl size=11956 sha256=bdb2f86c64d4c5f1907c451e1839d6143a80e83ae152834a06290c38d825de62\n",
            "  Stored in directory: /root/.cache/pip/wheels/e2/d2/79/eaf81edb391e27c87f51b8ef901ecc85a5363dc96b8b8d71e3\n",
            "Successfully built stopit\n",
            "Installing collected packages: xgboost, update-checker, stopit, deap, tpot\n",
            "  Attempting uninstall: xgboost\n",
            "    Found existing installation: xgboost 0.90\n",
            "    Uninstalling xgboost-0.90:\n",
            "      Successfully uninstalled xgboost-0.90\n",
            "Successfully installed deap-1.3.1 stopit-1.1.2 tpot-0.11.7 update-checker-0.18.0 xgboost-1.6.0\n"
          ]
        }
      ]
    },
    {
      "cell_type": "code",
      "source": [
        "from tpot import TPOTClassifier\n",
        "\n",
        "\n",
        "tpot_classifier = TPOTClassifier(generations= 5, population_size= 24, offspring_size= 12,\n",
        "                                 verbosity= 2, early_stop= 12,\n",
        "                                 config_dict={'sklearn.ensemble.RandomForestClassifier': param}, \n",
        "                                 cv = 4, scoring = 'accuracy')\n",
        "tpot_classifier.fit(X_train,y_train)"
      ],
      "metadata": {
        "id": "q4B83UfndypO",
        "outputId": "3bff2ca0-10e9-4af6-c4dc-1d2c4108a30e",
        "colab": {
          "base_uri": "https://localhost:8080/",
          "height": 870,
          "referenced_widgets": [
            "a53fc5abaf0c4a4d8e66eb962abb1094",
            "87bd98a54a094cc5897c2875fd1d2969",
            "a8958a56253b43379fce862557a8b2f8",
            "c792a9dc20f84f919da97cb1b5339213",
            "69d87caa0a704dda830d466bf781517d",
            "e9b4e362a4dc4b358484c1609dbbc773",
            "23bfa2d2dd914da6a091bc6133774778",
            "12742f193a6a4cca88d8249a31d6b539",
            "7039fc0ea7a447fa9b4954f5c9525f2c",
            "53c376e66e2140fabeda218e0cb652f3",
            "852365cd29974438b29d4935f1dc29cf"
          ]
        }
      },
      "execution_count": 36,
      "outputs": [
        {
          "output_type": "display_data",
          "data": {
            "text/plain": [
              "Optimization Progress:   0%|          | 0/84 [00:00<?, ?pipeline/s]"
            ],
            "application/vnd.jupyter.widget-view+json": {
              "version_major": 2,
              "version_minor": 0,
              "model_id": "a53fc5abaf0c4a4d8e66eb962abb1094"
            }
          },
          "metadata": {}
        },
        {
          "output_type": "stream",
          "name": "stdout",
          "text": [
            "\n",
            "Generation 1 - Current best internal CV score: 0.7556659027247262\n",
            "\n",
            "Generation 2 - Current best internal CV score: 0.7573211102622868\n",
            "\n",
            "Generation 3 - Current best internal CV score: 0.7589338765809354\n",
            "\n",
            "Generation 4 - Current best internal CV score: 0.7638464476699771\n",
            "\n",
            "Generation 5 - Current best internal CV score: 0.7638464476699771\n",
            "\n",
            "Best pipeline: RandomForestClassifier(RandomForestClassifier(CombineDFs(input_matrix, input_matrix), criterion=gini, max_depth=1000, max_features=sqrt, min_samples_leaf=6, min_samples_split=2, n_estimators=1400), criterion=gini, max_depth=120, max_features=sqrt, min_samples_leaf=8, min_samples_split=10, n_estimators=800)\n"
          ]
        },
        {
          "output_type": "execute_result",
          "data": {
            "text/plain": [
              "TPOTClassifier(config_dict={'sklearn.ensemble.RandomForestClassifier': {'criterion': ['entropy',\n",
              "                                                                                      'gini'],\n",
              "                                                                        'max_depth': [10,\n",
              "                                                                                      120,\n",
              "                                                                                      230,\n",
              "                                                                                      340,\n",
              "                                                                                      450,\n",
              "                                                                                      560,\n",
              "                                                                                      670,\n",
              "                                                                                      780,\n",
              "                                                                                      890,\n",
              "                                                                                      1000],\n",
              "                                                                        'max_features': ['auto',\n",
              "                                                                                         'sqrt',\n",
              "                                                                                         'log2'],\n",
              "                                                                        'min_samples_leaf': [1,\n",
              "                                                                                             2,\n",
              "                                                                                             4,\n",
              "                                                                                             6,\n",
              "                                                                                             8],\n",
              "                                                                        'min_samples_split': [2,\n",
              "                                                                                              5,\n",
              "                                                                                              10,\n",
              "                                                                                              14],\n",
              "                                                                        'n_estimators': [200,\n",
              "                                                                                         400,\n",
              "                                                                                         600,\n",
              "                                                                                         800,\n",
              "                                                                                         1000,\n",
              "                                                                                         1200,\n",
              "                                                                                         1400,\n",
              "                                                                                         1600,\n",
              "                                                                                         1800,\n",
              "                                                                                         2000]}},\n",
              "               cv=4, early_stop=12, generations=5, offspring_size=12,\n",
              "               population_size=24, scoring='accuracy', verbosity=2)"
            ]
          },
          "metadata": {},
          "execution_count": 36
        }
      ]
    },
    {
      "cell_type": "code",
      "source": [
        "accuracy = tpot_classifier.score(X_test, y_test)\n",
        "print(accuracy)"
      ],
      "metadata": {
        "id": "reyj-4-Md9sI",
        "outputId": "d07f00c0-21d3-4aca-a1d8-bdd17dab8c45",
        "colab": {
          "base_uri": "https://localhost:8080/"
        }
      },
      "execution_count": 37,
      "outputs": [
        {
          "output_type": "stream",
          "name": "stdout",
          "text": [
            "0.8376623376623377\n"
          ]
        }
      ]
    },
    {
      "cell_type": "markdown",
      "source": [
        "### Optimize hyperparameters of the model using Optuna\n",
        "\n",
        "The hyperparameters of the above algorithm are `n_estimators` and `max_depth` for which we can try different values to see if the model accuracy can be improved. The `objective` function is modified to accept a trial object. This trial has several methods for sampling hyperparameters. We create a study to run the hyperparameter optimization and finally read the best hyperparameters.\n"
      ],
      "metadata": {
        "id": "wLgvxnYP1SkG"
      }
    },
    {
      "cell_type": "code",
      "source": [
        "!pip install optuna"
      ],
      "metadata": {
        "id": "_pmIKFv_1f16",
        "outputId": "c381c902-6edc-4abc-9e06-e20cadbe46aa",
        "colab": {
          "base_uri": "https://localhost:8080/"
        }
      },
      "execution_count": 38,
      "outputs": [
        {
          "output_type": "stream",
          "name": "stdout",
          "text": [
            "Collecting optuna\n",
            "  Downloading optuna-2.10.0-py3-none-any.whl (308 kB)\n",
            "\u001b[?25l\r\u001b[K     |█                               | 10 kB 18.3 MB/s eta 0:00:01\r\u001b[K     |██▏                             | 20 kB 19.5 MB/s eta 0:00:01\r\u001b[K     |███▏                            | 30 kB 10.7 MB/s eta 0:00:01\r\u001b[K     |████▎                           | 40 kB 8.6 MB/s eta 0:00:01\r\u001b[K     |█████▎                          | 51 kB 4.7 MB/s eta 0:00:01\r\u001b[K     |██████▍                         | 61 kB 5.6 MB/s eta 0:00:01\r\u001b[K     |███████▍                        | 71 kB 5.6 MB/s eta 0:00:01\r\u001b[K     |████████▌                       | 81 kB 5.9 MB/s eta 0:00:01\r\u001b[K     |█████████▋                      | 92 kB 6.6 MB/s eta 0:00:01\r\u001b[K     |██████████▋                     | 102 kB 5.4 MB/s eta 0:00:01\r\u001b[K     |███████████▊                    | 112 kB 5.4 MB/s eta 0:00:01\r\u001b[K     |████████████▊                   | 122 kB 5.4 MB/s eta 0:00:01\r\u001b[K     |█████████████▉                  | 133 kB 5.4 MB/s eta 0:00:01\r\u001b[K     |██████████████▉                 | 143 kB 5.4 MB/s eta 0:00:01\r\u001b[K     |████████████████                | 153 kB 5.4 MB/s eta 0:00:01\r\u001b[K     |█████████████████               | 163 kB 5.4 MB/s eta 0:00:01\r\u001b[K     |██████████████████              | 174 kB 5.4 MB/s eta 0:00:01\r\u001b[K     |███████████████████▏            | 184 kB 5.4 MB/s eta 0:00:01\r\u001b[K     |████████████████████▏           | 194 kB 5.4 MB/s eta 0:00:01\r\u001b[K     |█████████████████████▎          | 204 kB 5.4 MB/s eta 0:00:01\r\u001b[K     |██████████████████████▎         | 215 kB 5.4 MB/s eta 0:00:01\r\u001b[K     |███████████████████████▍        | 225 kB 5.4 MB/s eta 0:00:01\r\u001b[K     |████████████████████████▌       | 235 kB 5.4 MB/s eta 0:00:01\r\u001b[K     |█████████████████████████▌      | 245 kB 5.4 MB/s eta 0:00:01\r\u001b[K     |██████████████████████████▋     | 256 kB 5.4 MB/s eta 0:00:01\r\u001b[K     |███████████████████████████▋    | 266 kB 5.4 MB/s eta 0:00:01\r\u001b[K     |████████████████████████████▊   | 276 kB 5.4 MB/s eta 0:00:01\r\u001b[K     |█████████████████████████████▊  | 286 kB 5.4 MB/s eta 0:00:01\r\u001b[K     |██████████████████████████████▉ | 296 kB 5.4 MB/s eta 0:00:01\r\u001b[K     |████████████████████████████████| 307 kB 5.4 MB/s eta 0:00:01\r\u001b[K     |████████████████████████████████| 308 kB 5.4 MB/s \n",
            "\u001b[?25hRequirement already satisfied: sqlalchemy>=1.1.0 in /usr/local/lib/python3.7/dist-packages (from optuna) (1.4.35)\n",
            "Collecting cmaes>=0.8.2\n",
            "  Downloading cmaes-0.8.2-py3-none-any.whl (15 kB)\n",
            "Collecting colorlog\n",
            "  Downloading colorlog-6.6.0-py2.py3-none-any.whl (11 kB)\n",
            "Requirement already satisfied: numpy in /usr/local/lib/python3.7/dist-packages (from optuna) (1.21.6)\n",
            "Collecting cliff\n",
            "  Downloading cliff-3.10.1-py3-none-any.whl (81 kB)\n",
            "\u001b[K     |████████████████████████████████| 81 kB 9.0 MB/s \n",
            "\u001b[?25hRequirement already satisfied: scipy!=1.4.0 in /usr/local/lib/python3.7/dist-packages (from optuna) (1.4.1)\n",
            "Requirement already satisfied: tqdm in /usr/local/lib/python3.7/dist-packages (from optuna) (4.64.0)\n",
            "Requirement already satisfied: packaging>=20.0 in /usr/local/lib/python3.7/dist-packages (from optuna) (21.3)\n",
            "Requirement already satisfied: PyYAML in /usr/local/lib/python3.7/dist-packages (from optuna) (3.13)\n",
            "Collecting alembic\n",
            "  Downloading alembic-1.7.7-py3-none-any.whl (210 kB)\n",
            "\u001b[K     |████████████████████████████████| 210 kB 43.8 MB/s \n",
            "\u001b[?25hRequirement already satisfied: pyparsing!=3.0.5,>=2.0.2 in /usr/local/lib/python3.7/dist-packages (from packaging>=20.0->optuna) (3.0.8)\n",
            "Requirement already satisfied: greenlet!=0.4.17 in /usr/local/lib/python3.7/dist-packages (from sqlalchemy>=1.1.0->optuna) (1.1.2)\n",
            "Requirement already satisfied: importlib-metadata in /usr/local/lib/python3.7/dist-packages (from sqlalchemy>=1.1.0->optuna) (4.11.3)\n",
            "Collecting Mako\n",
            "  Downloading Mako-1.2.0-py3-none-any.whl (78 kB)\n",
            "\u001b[K     |████████████████████████████████| 78 kB 7.2 MB/s \n",
            "\u001b[?25hRequirement already satisfied: importlib-resources in /usr/local/lib/python3.7/dist-packages (from alembic->optuna) (5.7.1)\n",
            "Collecting cmd2>=1.0.0\n",
            "  Downloading cmd2-2.4.1-py3-none-any.whl (146 kB)\n",
            "\u001b[K     |████████████████████████████████| 146 kB 46.9 MB/s \n",
            "\u001b[?25hCollecting stevedore>=2.0.1\n",
            "  Downloading stevedore-3.5.0-py3-none-any.whl (49 kB)\n",
            "\u001b[K     |████████████████████████████████| 49 kB 6.1 MB/s \n",
            "\u001b[?25hCollecting pbr!=2.1.0,>=2.0.0\n",
            "  Downloading pbr-5.8.1-py2.py3-none-any.whl (113 kB)\n",
            "\u001b[K     |████████████████████████████████| 113 kB 46.8 MB/s \n",
            "\u001b[?25hRequirement already satisfied: PrettyTable>=0.7.2 in /usr/local/lib/python3.7/dist-packages (from cliff->optuna) (3.2.0)\n",
            "Collecting autopage>=0.4.0\n",
            "  Downloading autopage-0.5.0-py3-none-any.whl (29 kB)\n",
            "Requirement already satisfied: typing-extensions in /usr/local/lib/python3.7/dist-packages (from cmd2>=1.0.0->cliff->optuna) (4.2.0)\n",
            "Requirement already satisfied: wcwidth>=0.1.7 in /usr/local/lib/python3.7/dist-packages (from cmd2>=1.0.0->cliff->optuna) (0.2.5)\n",
            "Collecting pyperclip>=1.6\n",
            "  Downloading pyperclip-1.8.2.tar.gz (20 kB)\n",
            "Requirement already satisfied: attrs>=16.3.0 in /usr/local/lib/python3.7/dist-packages (from cmd2>=1.0.0->cliff->optuna) (21.4.0)\n",
            "Requirement already satisfied: zipp>=0.5 in /usr/local/lib/python3.7/dist-packages (from importlib-metadata->sqlalchemy>=1.1.0->optuna) (3.8.0)\n",
            "Requirement already satisfied: MarkupSafe>=0.9.2 in /usr/local/lib/python3.7/dist-packages (from Mako->alembic->optuna) (2.0.1)\n",
            "Building wheels for collected packages: pyperclip\n",
            "  Building wheel for pyperclip (setup.py) ... \u001b[?25l\u001b[?25hdone\n",
            "  Created wheel for pyperclip: filename=pyperclip-1.8.2-py3-none-any.whl size=11137 sha256=4bf806a7647dc9b027eca9a85690b607988ebd5cb808e630ea1cbdd7af729a41\n",
            "  Stored in directory: /root/.cache/pip/wheels/9f/18/84/8f69f8b08169c7bae2dde6bd7daf0c19fca8c8e500ee620a28\n",
            "Successfully built pyperclip\n",
            "Installing collected packages: pyperclip, pbr, stevedore, Mako, cmd2, autopage, colorlog, cmaes, cliff, alembic, optuna\n",
            "Successfully installed Mako-1.2.0 alembic-1.7.7 autopage-0.5.0 cliff-3.10.1 cmaes-0.8.2 cmd2-2.4.1 colorlog-6.6.0 optuna-2.10.0 pbr-5.8.1 pyperclip-1.8.2 stevedore-3.5.0\n"
          ]
        }
      ]
    },
    {
      "cell_type": "code",
      "source": [
        "import optuna\n",
        "import sklearn.svm\n",
        "def objective(trial):\n",
        "\n",
        "    classifier = trial.suggest_categorical('classifier', ['RandomForest', 'SVC'])\n",
        "    \n",
        "    if classifier == 'RandomForest':\n",
        "        n_estimators = trial.suggest_int('n_estimators', 200, 2000,10)\n",
        "        max_depth = int(trial.suggest_float('max_depth', 10, 100, log=True))\n",
        "\n",
        "        clf = sklearn.ensemble.RandomForestClassifier(\n",
        "            n_estimators=n_estimators, max_depth=max_depth)\n",
        "    else:\n",
        "        c = trial.suggest_float('svc_c', 1e-10, 1e10, log=True)\n",
        "        \n",
        "        clf = sklearn.svm.SVC(C=c, gamma='auto')\n",
        "\n",
        "    return sklearn.model_selection.cross_val_score(\n",
        "        clf,X_train,y_train, n_jobs=-1, cv=3).mean()"
      ],
      "metadata": {
        "id": "ssFMsQl91SDY"
      },
      "execution_count": 40,
      "outputs": []
    },
    {
      "cell_type": "code",
      "source": [
        "study = optuna.create_study(direction='maximize')\n",
        "study.optimize(objective, n_trials=100)\n",
        "\n",
        "trial = study.best_trial\n",
        "\n",
        "print('Accuracy: {}'.format(trial.value))\n",
        "print(\"Best hyperparameters: {}\".format(trial.params))"
      ],
      "metadata": {
        "id": "aPywcI83_A5a",
        "outputId": "c6b297fc-bca7-4e3f-f847-7b87a2cc45a2",
        "colab": {
          "base_uri": "https://localhost:8080/"
        }
      },
      "execution_count": 41,
      "outputs": [
        {
          "output_type": "stream",
          "name": "stderr",
          "text": [
            "\u001b[32m[I 2022-04-26 13:08:02,210]\u001b[0m A new study created in memory with name: no-name-191ef51c-0692-4278-b863-8ff83c12bc07\u001b[0m\n",
            "\u001b[32m[I 2022-04-26 13:08:05,058]\u001b[0m Trial 0 finished with value: 0.7394069823051171 and parameters: {'classifier': 'RandomForest', 'n_estimators': 260, 'max_depth': 69.7535200760951}. Best is trial 0 with value: 0.7394069823051171.\u001b[0m\n",
            "\u001b[32m[I 2022-04-26 13:08:08,326]\u001b[0m Trial 1 finished with value: 0.7491869918699187 and parameters: {'classifier': 'RandomForest', 'n_estimators': 620, 'max_depth': 15.596736267779628}. Best is trial 1 with value: 0.7491869918699187.\u001b[0m\n",
            "\u001b[32m[I 2022-04-26 13:08:08,417]\u001b[0m Trial 2 finished with value: 0.640068547744301 and parameters: {'classifier': 'SVC', 'svc_c': 2.6902806232126673}. Best is trial 1 with value: 0.7491869918699187.\u001b[0m\n",
            "\u001b[32m[I 2022-04-26 13:08:17,944]\u001b[0m Trial 3 finished with value: 0.7491790212019768 and parameters: {'classifier': 'RandomForest', 'n_estimators': 1780, 'max_depth': 18.332625225159394}. Best is trial 1 with value: 0.7491869918699187.\u001b[0m\n",
            "\u001b[32m[I 2022-04-26 13:08:25,535]\u001b[0m Trial 4 finished with value: 0.7475530049418141 and parameters: {'classifier': 'RandomForest', 'n_estimators': 940, 'max_depth': 58.29867129712088}. Best is trial 1 with value: 0.7491869918699187.\u001b[0m\n",
            "\u001b[32m[I 2022-04-26 13:08:35,961]\u001b[0m Trial 5 finished with value: 0.7459030766778256 and parameters: {'classifier': 'RandomForest', 'n_estimators': 1720, 'max_depth': 78.8597993885139}. Best is trial 1 with value: 0.7491869918699187.\u001b[0m\n",
            "\u001b[32m[I 2022-04-26 13:08:36,028]\u001b[0m Trial 6 finished with value: 0.640068547744301 and parameters: {'classifier': 'SVC', 'svc_c': 6.18921572375005e-06}. Best is trial 1 with value: 0.7491869918699187.\u001b[0m\n",
            "\u001b[32m[I 2022-04-26 13:08:38,779]\u001b[0m Trial 7 finished with value: 0.7459269886816515 and parameters: {'classifier': 'RandomForest', 'n_estimators': 520, 'max_depth': 43.87816520509371}. Best is trial 1 with value: 0.7491869918699187.\u001b[0m\n",
            "\u001b[32m[I 2022-04-26 13:08:48,502]\u001b[0m Trial 8 finished with value: 0.75242308305436 and parameters: {'classifier': 'RandomForest', 'n_estimators': 1840, 'max_depth': 93.41170531220189}. Best is trial 8 with value: 0.75242308305436.\u001b[0m\n",
            "\u001b[32m[I 2022-04-26 13:08:52,230]\u001b[0m Trial 9 finished with value: 0.7475530049418141 and parameters: {'classifier': 'RandomForest', 'n_estimators': 700, 'max_depth': 36.29183007115492}. Best is trial 8 with value: 0.75242308305436.\u001b[0m\n",
            "\u001b[32m[I 2022-04-26 13:08:52,326]\u001b[0m Trial 10 finished with value: 0.640068547744301 and parameters: {'classifier': 'SVC', 'svc_c': 2082744260.2427022}. Best is trial 8 with value: 0.75242308305436.\u001b[0m\n",
            "\u001b[32m[I 2022-04-26 13:08:59,773]\u001b[0m Trial 11 finished with value: 0.7508050374621393 and parameters: {'classifier': 'RandomForest', 'n_estimators': 1430, 'max_depth': 12.310265307233331}. Best is trial 8 with value: 0.75242308305436.\u001b[0m\n",
            "\u001b[32m[I 2022-04-26 13:09:07,105]\u001b[0m Trial 12 finished with value: 0.7540730113183485 and parameters: {'classifier': 'RandomForest', 'n_estimators': 1400, 'max_depth': 10.059047962223845}. Best is trial 12 with value: 0.7540730113183485.\u001b[0m\n",
            "\u001b[32m[I 2022-04-26 13:09:14,737]\u001b[0m Trial 13 finished with value: 0.7491869918699187 and parameters: {'classifier': 'RandomForest', 'n_estimators': 1350, 'max_depth': 25.077465615109734}. Best is trial 12 with value: 0.7540730113183485.\u001b[0m\n",
            "\u001b[32m[I 2022-04-26 13:09:22,179]\u001b[0m Trial 14 finished with value: 0.7540570699824646 and parameters: {'classifier': 'RandomForest', 'n_estimators': 1430, 'max_depth': 96.61874135327766}. Best is trial 12 with value: 0.7540730113183485.\u001b[0m\n",
            "\u001b[32m[I 2022-04-26 13:09:22,245]\u001b[0m Trial 15 finished with value: 0.640068547744301 and parameters: {'classifier': 'SVC', 'svc_c': 2.0414441732246852e-10}. Best is trial 12 with value: 0.7540730113183485.\u001b[0m\n",
            "\u001b[32m[I 2022-04-26 13:09:28,882]\u001b[0m Trial 16 finished with value: 0.7556910569105691 and parameters: {'classifier': 'RandomForest', 'n_estimators': 1260, 'max_depth': 25.438897160449425}. Best is trial 16 with value: 0.7556910569105691.\u001b[0m\n",
            "\u001b[32m[I 2022-04-26 13:09:34,633]\u001b[0m Trial 17 finished with value: 0.7459190180137095 and parameters: {'classifier': 'RandomForest', 'n_estimators': 1110, 'max_depth': 10.00285150358955}. Best is trial 16 with value: 0.7556910569105691.\u001b[0m\n",
            "\u001b[32m[I 2022-04-26 13:09:34,717]\u001b[0m Trial 18 finished with value: 0.640068547744301 and parameters: {'classifier': 'SVC', 'svc_c': 8844252124.27237}. Best is trial 16 with value: 0.7556910569105691.\u001b[0m\n",
            "\u001b[32m[I 2022-04-26 13:09:40,422]\u001b[0m Trial 19 finished with value: 0.7524310537223019 and parameters: {'classifier': 'RandomForest', 'n_estimators': 1100, 'max_depth': 23.35052221840971}. Best is trial 16 with value: 0.7556910569105691.\u001b[0m\n",
            "\u001b[32m[I 2022-04-26 13:09:48,807]\u001b[0m Trial 20 finished with value: 0.7459269886816515 and parameters: {'classifier': 'RandomForest', 'n_estimators': 1600, 'max_depth': 26.475438471283443}. Best is trial 16 with value: 0.7556910569105691.\u001b[0m\n",
            "\u001b[32m[I 2022-04-26 13:09:55,997]\u001b[0m Trial 21 finished with value: 0.7540730113183485 and parameters: {'classifier': 'RandomForest', 'n_estimators': 1380, 'max_depth': 49.59959720127667}. Best is trial 16 with value: 0.7556910569105691.\u001b[0m\n",
            "\u001b[32m[I 2022-04-26 13:10:02,662]\u001b[0m Trial 22 finished with value: 0.7524390243902439 and parameters: {'classifier': 'RandomForest', 'n_estimators': 1280, 'max_depth': 46.47844911001064}. Best is trial 16 with value: 0.7556910569105691.\u001b[0m\n",
            "\u001b[32m[I 2022-04-26 13:10:08,634]\u001b[0m Trial 23 finished with value: 0.7459190180137095 and parameters: {'classifier': 'RandomForest', 'n_estimators': 1140, 'max_depth': 36.08904849573536}. Best is trial 16 with value: 0.7556910569105691.\u001b[0m\n",
            "\u001b[32m[I 2022-04-26 13:10:18,942]\u001b[0m Trial 24 finished with value: 0.7475609756097561 and parameters: {'classifier': 'RandomForest', 'n_estimators': 1980, 'max_depth': 17.900493320395018}. Best is trial 16 with value: 0.7556910569105691.\u001b[0m\n",
            "\u001b[32m[I 2022-04-26 13:10:27,233]\u001b[0m Trial 25 finished with value: 0.7508050374621393 and parameters: {'classifier': 'RandomForest', 'n_estimators': 1590, 'max_depth': 53.19377900449903}. Best is trial 16 with value: 0.7556910569105691.\u001b[0m\n",
            "\u001b[32m[I 2022-04-26 13:10:27,322]\u001b[0m Trial 26 finished with value: 0.640068547744301 and parameters: {'classifier': 'SVC', 'svc_c': 167.86183701207577}. Best is trial 16 with value: 0.7556910569105691.\u001b[0m\n",
            "\u001b[32m[I 2022-04-26 13:10:31,963]\u001b[0m Trial 27 finished with value: 0.7556830862426271 and parameters: {'classifier': 'RandomForest', 'n_estimators': 890, 'max_depth': 31.726739986286095}. Best is trial 16 with value: 0.7556910569105691.\u001b[0m\n",
            "\u001b[32m[I 2022-04-26 13:10:36,889]\u001b[0m Trial 28 finished with value: 0.7524390243902439 and parameters: {'classifier': 'RandomForest', 'n_estimators': 940, 'max_depth': 30.959635609471977}. Best is trial 16 with value: 0.7556910569105691.\u001b[0m\n",
            "\u001b[32m[I 2022-04-26 13:10:41,248]\u001b[0m Trial 29 finished with value: 0.7491790212019768 and parameters: {'classifier': 'RandomForest', 'n_estimators': 840, 'max_depth': 31.333172596557535}. Best is trial 16 with value: 0.7556910569105691.\u001b[0m\n",
            "\u001b[32m[I 2022-04-26 13:10:47,710]\u001b[0m Trial 30 finished with value: 0.7459030766778256 and parameters: {'classifier': 'RandomForest', 'n_estimators': 1230, 'max_depth': 21.236125174471827}. Best is trial 16 with value: 0.7556910569105691.\u001b[0m\n",
            "\u001b[32m[I 2022-04-26 13:10:55,607]\u001b[0m Trial 31 finished with value: 0.7508050374621393 and parameters: {'classifier': 'RandomForest', 'n_estimators': 1500, 'max_depth': 13.20843724014759}. Best is trial 16 with value: 0.7556910569105691.\u001b[0m\n",
            "\u001b[32m[I 2022-04-26 13:11:02,528]\u001b[0m Trial 32 finished with value: 0.7459269886816515 and parameters: {'classifier': 'RandomForest', 'n_estimators': 1220, 'max_depth': 39.83125185251938}. Best is trial 16 with value: 0.7556910569105691.\u001b[0m\n",
            "\u001b[32m[I 2022-04-26 13:11:07,674]\u001b[0m Trial 33 finished with value: 0.7508130081300813 and parameters: {'classifier': 'RandomForest', 'n_estimators': 980, 'max_depth': 56.216523532201464}. Best is trial 16 with value: 0.7556910569105691.\u001b[0m\n",
            "\u001b[32m[I 2022-04-26 13:11:14,741]\u001b[0m Trial 34 finished with value: 0.75242308305436 and parameters: {'classifier': 'RandomForest', 'n_estimators': 1350, 'max_depth': 30.455926993488927}. Best is trial 16 with value: 0.7556910569105691.\u001b[0m\n",
            "\u001b[32m[I 2022-04-26 13:11:18,967]\u001b[0m Trial 35 finished with value: 0.75242308305436 and parameters: {'classifier': 'RandomForest', 'n_estimators': 810, 'max_depth': 10.052633856250859}. Best is trial 16 with value: 0.7556910569105691.\u001b[0m\n",
            "\u001b[32m[I 2022-04-26 13:11:27,392]\u001b[0m Trial 36 finished with value: 0.7540570699824646 and parameters: {'classifier': 'RandomForest', 'n_estimators': 1610, 'max_depth': 74.55499941399609}. Best is trial 16 with value: 0.7556910569105691.\u001b[0m\n",
            "\u001b[32m[I 2022-04-26 13:11:27,477]\u001b[0m Trial 37 finished with value: 0.640068547744301 and parameters: {'classifier': 'SVC', 'svc_c': 36224.20089877202}. Best is trial 16 with value: 0.7556910569105691.\u001b[0m\n",
            "\u001b[32m[I 2022-04-26 13:11:30,037]\u001b[0m Trial 38 finished with value: 0.7459269886816515 and parameters: {'classifier': 'RandomForest', 'n_estimators': 490, 'max_depth': 48.15162965324079}. Best is trial 16 with value: 0.7556910569105691.\u001b[0m\n",
            "\u001b[32m[I 2022-04-26 13:11:35,386]\u001b[0m Trial 39 finished with value: 0.7540570699824646 and parameters: {'classifier': 'RandomForest', 'n_estimators': 1020, 'max_depth': 63.88145894652195}. Best is trial 16 with value: 0.7556910569105691.\u001b[0m\n",
            "\u001b[32m[I 2022-04-26 13:11:43,181]\u001b[0m Trial 40 finished with value: 0.7475530049418141 and parameters: {'classifier': 'RandomForest', 'n_estimators': 1480, 'max_depth': 14.658426318262068}. Best is trial 16 with value: 0.7556910569105691.\u001b[0m\n",
            "\u001b[32m[I 2022-04-26 13:11:48,672]\u001b[0m Trial 41 finished with value: 0.7491710505340348 and parameters: {'classifier': 'RandomForest', 'n_estimators': 1040, 'max_depth': 63.84190418581641}. Best is trial 16 with value: 0.7556910569105691.\u001b[0m\n",
            "\u001b[32m[I 2022-04-26 13:11:49,972]\u001b[0m Trial 42 finished with value: 0.7589430894308943 and parameters: {'classifier': 'RandomForest', 'n_estimators': 240, 'max_depth': 66.2495625255942}. Best is trial 42 with value: 0.7589430894308943.\u001b[0m\n",
            "\u001b[32m[I 2022-04-26 13:11:51,493]\u001b[0m Trial 43 finished with value: 0.7491710505340348 and parameters: {'classifier': 'RandomForest', 'n_estimators': 280, 'max_depth': 82.5897999932504}. Best is trial 42 with value: 0.7589430894308943.\u001b[0m\n",
            "\u001b[32m[I 2022-04-26 13:11:53,319]\u001b[0m Trial 44 finished with value: 0.744300972421489 and parameters: {'classifier': 'RandomForest', 'n_estimators': 340, 'max_depth': 19.04264259417385}. Best is trial 42 with value: 0.7589430894308943.\u001b[0m\n",
            "\u001b[32m[I 2022-04-26 13:12:00,399]\u001b[0m Trial 45 finished with value: 0.7508130081300813 and parameters: {'classifier': 'RandomForest', 'n_estimators': 1350, 'max_depth': 66.45986221379397}. Best is trial 42 with value: 0.7589430894308943.\u001b[0m\n",
            "\u001b[32m[I 2022-04-26 13:12:00,467]\u001b[0m Trial 46 finished with value: 0.640068547744301 and parameters: {'classifier': 'SVC', 'svc_c': 1.714239283702466e-05}. Best is trial 42 with value: 0.7589430894308943.\u001b[0m\n",
            "\u001b[32m[I 2022-04-26 13:12:03,054]\u001b[0m Trial 47 finished with value: 0.7394069823051171 and parameters: {'classifier': 'RandomForest', 'n_estimators': 490, 'max_depth': 50.853653288578926}. Best is trial 42 with value: 0.7589430894308943.\u001b[0m\n",
            "\u001b[32m[I 2022-04-26 13:12:05,009]\u001b[0m Trial 48 finished with value: 0.7459190180137095 and parameters: {'classifier': 'RandomForest', 'n_estimators': 370, 'max_depth': 39.12769885714661}. Best is trial 42 with value: 0.7589430894308943.\u001b[0m\n",
            "\u001b[32m[I 2022-04-26 13:12:08,395]\u001b[0m Trial 49 finished with value: 0.7508130081300813 and parameters: {'classifier': 'RandomForest', 'n_estimators': 640, 'max_depth': 41.81335807498175}. Best is trial 42 with value: 0.7589430894308943.\u001b[0m\n",
            "\u001b[32m[I 2022-04-26 13:12:08,466]\u001b[0m Trial 50 finished with value: 0.640068547744301 and parameters: {'classifier': 'SVC', 'svc_c': 0.00020046120006167402}. Best is trial 42 with value: 0.7589430894308943.\u001b[0m\n",
            "\u001b[32m[I 2022-04-26 13:12:17,028]\u001b[0m Trial 51 finished with value: 0.7475450342738722 and parameters: {'classifier': 'RandomForest', 'n_estimators': 1620, 'max_depth': 75.046836918376}. Best is trial 42 with value: 0.7589430894308943.\u001b[0m\n",
            "\u001b[32m[I 2022-04-26 13:12:24,580]\u001b[0m Trial 52 finished with value: 0.7491790212019768 and parameters: {'classifier': 'RandomForest', 'n_estimators': 1450, 'max_depth': 97.69226773236812}. Best is trial 42 with value: 0.7589430894308943.\u001b[0m\n",
            "\u001b[32m[I 2022-04-26 13:12:33,571]\u001b[0m Trial 53 finished with value: 0.7475530049418141 and parameters: {'classifier': 'RandomForest', 'n_estimators': 1710, 'max_depth': 83.69379486491029}. Best is trial 42 with value: 0.7589430894308943.\u001b[0m\n",
            "\u001b[32m[I 2022-04-26 13:12:43,227]\u001b[0m Trial 54 finished with value: 0.7508050374621393 and parameters: {'classifier': 'RandomForest', 'n_estimators': 1850, 'max_depth': 58.71741042013997}. Best is trial 42 with value: 0.7589430894308943.\u001b[0m\n",
            "\u001b[32m[I 2022-04-26 13:12:50,113]\u001b[0m Trial 55 finished with value: 0.7507970667941973 and parameters: {'classifier': 'RandomForest', 'n_estimators': 1200, 'max_depth': 65.35572589362286}. Best is trial 42 with value: 0.7589430894308943.\u001b[0m\n",
            "\u001b[32m[I 2022-04-26 13:12:58,168]\u001b[0m Trial 56 finished with value: 0.7507970667941973 and parameters: {'classifier': 'RandomForest', 'n_estimators': 1540, 'max_depth': 72.4117151308201}. Best is trial 42 with value: 0.7589430894308943.\u001b[0m\n",
            "\u001b[32m[I 2022-04-26 13:12:59,254]\u001b[0m Trial 57 finished with value: 0.7491630798660928 and parameters: {'classifier': 'RandomForest', 'n_estimators': 200, 'max_depth': 89.27853028657265}. Best is trial 42 with value: 0.7589430894308943.\u001b[0m\n",
            "\u001b[32m[I 2022-04-26 13:13:06,329]\u001b[0m Trial 58 finished with value: 0.7556751155746851 and parameters: {'classifier': 'RandomForest', 'n_estimators': 1350, 'max_depth': 33.7740015486719}. Best is trial 42 with value: 0.7589430894308943.\u001b[0m\n",
            "\u001b[32m[I 2022-04-26 13:13:06,394]\u001b[0m Trial 59 finished with value: 0.640068547744301 and parameters: {'classifier': 'SVC', 'svc_c': 1.7793841375802197e-10}. Best is trial 42 with value: 0.7589430894308943.\u001b[0m\n",
            "\u001b[32m[I 2022-04-26 13:13:13,249]\u001b[0m Trial 60 finished with value: 0.7507970667941973 and parameters: {'classifier': 'RandomForest', 'n_estimators': 1310, 'max_depth': 27.53089239851186}. Best is trial 42 with value: 0.7589430894308943.\u001b[0m\n",
            "\u001b[32m[I 2022-04-26 13:13:17,530]\u001b[0m Trial 61 finished with value: 0.7540490993145226 and parameters: {'classifier': 'RandomForest', 'n_estimators': 820, 'max_depth': 33.60707840315178}. Best is trial 42 with value: 0.7589430894308943.\u001b[0m\n",
            "\u001b[32m[I 2022-04-26 13:13:23,601]\u001b[0m Trial 62 finished with value: 0.7491790212019768 and parameters: {'classifier': 'RandomForest', 'n_estimators': 1150, 'max_depth': 59.3528661983085}. Best is trial 42 with value: 0.7589430894308943.\u001b[0m\n",
            "\u001b[32m[I 2022-04-26 13:13:31,010]\u001b[0m Trial 63 finished with value: 0.7491869918699187 and parameters: {'classifier': 'RandomForest', 'n_estimators': 1410, 'max_depth': 23.225778629244207}. Best is trial 42 with value: 0.7589430894308943.\u001b[0m\n",
            "\u001b[32m[I 2022-04-26 13:13:39,781]\u001b[0m Trial 64 finished with value: 0.7540730113183485 and parameters: {'classifier': 'RandomForest', 'n_estimators': 1680, 'max_depth': 28.17571194379578}. Best is trial 42 with value: 0.7589430894308943.\u001b[0m\n",
            "\u001b[32m[I 2022-04-26 13:13:48,748]\u001b[0m Trial 65 finished with value: 0.7540650406504065 and parameters: {'classifier': 'RandomForest', 'n_estimators': 1710, 'max_depth': 35.30259418395348}. Best is trial 42 with value: 0.7589430894308943.\u001b[0m\n",
            "\u001b[32m[I 2022-04-26 13:13:56,040]\u001b[0m Trial 66 finished with value: 0.7508050374621393 and parameters: {'classifier': 'RandomForest', 'n_estimators': 1380, 'max_depth': 27.941153780271772}. Best is trial 42 with value: 0.7589430894308943.\u001b[0m\n",
            "\u001b[32m[I 2022-04-26 13:14:02,821]\u001b[0m Trial 67 finished with value: 0.7491630798660928 and parameters: {'classifier': 'RandomForest', 'n_estimators': 1290, 'max_depth': 45.04776226449968}. Best is trial 42 with value: 0.7589430894308943.\u001b[0m\n",
            "\u001b[32m[I 2022-04-26 13:14:12,411]\u001b[0m Trial 68 finished with value: 0.7508050374621393 and parameters: {'classifier': 'RandomForest', 'n_estimators': 1830, 'max_depth': 25.22583262048743}. Best is trial 42 with value: 0.7589430894308943.\u001b[0m\n",
            "\u001b[32m[I 2022-04-26 13:14:22,552]\u001b[0m Trial 69 finished with value: 0.7540650406504065 and parameters: {'classifier': 'RandomForest', 'n_estimators': 1930, 'max_depth': 19.75632165563187}. Best is trial 42 with value: 0.7589430894308943.\u001b[0m\n",
            "\u001b[32m[I 2022-04-26 13:14:28,693]\u001b[0m Trial 70 finished with value: 0.7475450342738722 and parameters: {'classifier': 'RandomForest', 'n_estimators': 1180, 'max_depth': 17.01422597184679}. Best is trial 42 with value: 0.7589430894308943.\u001b[0m\n",
            "\u001b[32m[I 2022-04-26 13:14:38,694]\u001b[0m Trial 71 finished with value: 0.7491710505340348 and parameters: {'classifier': 'RandomForest', 'n_estimators': 1910, 'max_depth': 21.106561783197964}. Best is trial 42 with value: 0.7589430894308943.\u001b[0m\n",
            "\u001b[32m[I 2022-04-26 13:14:48,926]\u001b[0m Trial 72 finished with value: 0.7524310537223019 and parameters: {'classifier': 'RandomForest', 'n_estimators': 1960, 'max_depth': 22.67427263947214}. Best is trial 42 with value: 0.7589430894308943.\u001b[0m\n",
            "\u001b[32m[I 2022-04-26 13:14:57,045]\u001b[0m Trial 73 finished with value: 0.7540570699824646 and parameters: {'classifier': 'RandomForest', 'n_estimators': 1550, 'max_depth': 28.738364509293124}. Best is trial 42 with value: 0.7589430894308943.\u001b[0m\n",
            "\u001b[32m[I 2022-04-26 13:15:05,667]\u001b[0m Trial 74 finished with value: 0.7524310537223019 and parameters: {'classifier': 'RandomForest', 'n_estimators': 1650, 'max_depth': 33.236287276087396}. Best is trial 42 with value: 0.7589430894308943.\u001b[0m\n",
            "\u001b[32m[I 2022-04-26 13:15:14,733]\u001b[0m Trial 75 finished with value: 0.744285031085605 and parameters: {'classifier': 'RandomForest', 'n_estimators': 1740, 'max_depth': 36.7365531995553}. Best is trial 42 with value: 0.7589430894308943.\u001b[0m\n",
            "\u001b[32m[I 2022-04-26 13:15:23,512]\u001b[0m Trial 76 finished with value: 0.7540650406504065 and parameters: {'classifier': 'RandomForest', 'n_estimators': 1670, 'max_depth': 35.87749972274934}. Best is trial 42 with value: 0.7589430894308943.\u001b[0m\n",
            "\u001b[32m[I 2022-04-26 13:15:23,598]\u001b[0m Trial 77 finished with value: 0.640068547744301 and parameters: {'classifier': 'SVC', 'svc_c': 48366.148362985856}. Best is trial 42 with value: 0.7589430894308943.\u001b[0m\n",
            "\u001b[32m[I 2022-04-26 13:15:30,200]\u001b[0m Trial 78 finished with value: 0.7507970667941973 and parameters: {'classifier': 'RandomForest', 'n_estimators': 1260, 'max_depth': 29.558008441224498}. Best is trial 42 with value: 0.7589430894308943.\u001b[0m\n",
            "\u001b[32m[I 2022-04-26 13:15:38,108]\u001b[0m Trial 79 finished with value: 0.7508130081300813 and parameters: {'classifier': 'RandomForest', 'n_estimators': 1510, 'max_depth': 10.996610810746697}. Best is trial 42 with value: 0.7589430894308943.\u001b[0m\n",
            "\u001b[32m[I 2022-04-26 13:15:47,487]\u001b[0m Trial 80 finished with value: 0.7524310537223019 and parameters: {'classifier': 'RandomForest', 'n_estimators': 1800, 'max_depth': 26.32104867719693}. Best is trial 42 with value: 0.7589430894308943.\u001b[0m\n",
            "\u001b[32m[I 2022-04-26 13:15:56,175]\u001b[0m Trial 81 finished with value: 0.7459190180137095 and parameters: {'classifier': 'RandomForest', 'n_estimators': 1660, 'max_depth': 34.50879667164028}. Best is trial 42 with value: 0.7589430894308943.\u001b[0m\n",
            "\u001b[32m[I 2022-04-26 13:16:05,038]\u001b[0m Trial 82 finished with value: 0.7540650406504065 and parameters: {'classifier': 'RandomForest', 'n_estimators': 1700, 'max_depth': 37.83632384519252}. Best is trial 42 with value: 0.7589430894308943.\u001b[0m\n",
            "\u001b[32m[I 2022-04-26 13:16:14,996]\u001b[0m Trial 83 finished with value: 0.7491630798660928 and parameters: {'classifier': 'RandomForest', 'n_estimators': 1900, 'max_depth': 39.09964664862523}. Best is trial 42 with value: 0.7589430894308943.\u001b[0m\n",
            "\u001b[32m[I 2022-04-26 13:16:24,118]\u001b[0m Trial 84 finished with value: 0.7540570699824646 and parameters: {'classifier': 'RandomForest', 'n_estimators': 1740, 'max_depth': 31.82438803753969}. Best is trial 42 with value: 0.7589430894308943.\u001b[0m\n",
            "\u001b[32m[I 2022-04-26 13:16:31,681]\u001b[0m Trial 85 finished with value: 0.7491790212019768 and parameters: {'classifier': 'RandomForest', 'n_estimators': 1450, 'max_depth': 41.72235366446852}. Best is trial 42 with value: 0.7589430894308943.\u001b[0m\n",
            "\u001b[32m[I 2022-04-26 13:16:37,440]\u001b[0m Trial 86 finished with value: 0.7507890961262554 and parameters: {'classifier': 'RandomForest', 'n_estimators': 1100, 'max_depth': 21.093459511185497}. Best is trial 42 with value: 0.7589430894308943.\u001b[0m\n",
            "\u001b[32m[I 2022-04-26 13:16:44,380]\u001b[0m Trial 87 finished with value: 0.7540650406504065 and parameters: {'classifier': 'RandomForest', 'n_estimators': 1330, 'max_depth': 48.725902757524935}. Best is trial 42 with value: 0.7589430894308943.\u001b[0m\n",
            "\u001b[32m[I 2022-04-26 13:16:44,462]\u001b[0m Trial 88 finished with value: 0.640068547744301 and parameters: {'classifier': 'SVC', 'svc_c': 0.007317623687122506}. Best is trial 42 with value: 0.7589430894308943.\u001b[0m\n",
            "\u001b[32m[I 2022-04-26 13:16:49,120]\u001b[0m Trial 89 finished with value: 0.7459190180137095 and parameters: {'classifier': 'RandomForest', 'n_estimators': 890, 'max_depth': 13.667471790064786}. Best is trial 42 with value: 0.7589430894308943.\u001b[0m\n",
            "\u001b[32m[I 2022-04-26 13:16:53,029]\u001b[0m Trial 90 finished with value: 0.7491710505340348 and parameters: {'classifier': 'RandomForest', 'n_estimators': 740, 'max_depth': 50.83368380596723}. Best is trial 42 with value: 0.7589430894308943.\u001b[0m\n",
            "\u001b[32m[I 2022-04-26 13:17:00,221]\u001b[0m Trial 91 finished with value: 0.7508130081300813 and parameters: {'classifier': 'RandomForest', 'n_estimators': 1370, 'max_depth': 34.91331866298955}. Best is trial 42 with value: 0.7589430894308943.\u001b[0m\n",
            "\u001b[32m[I 2022-04-26 13:17:06,779]\u001b[0m Trial 92 finished with value: 0.7524390243902439 and parameters: {'classifier': 'RandomForest', 'n_estimators': 1250, 'max_depth': 24.528422285538703}. Best is trial 42 with value: 0.7589430894308943.\u001b[0m\n",
            "\u001b[32m[I 2022-04-26 13:17:13,829]\u001b[0m Trial 93 finished with value: 0.7459190180137095 and parameters: {'classifier': 'RandomForest', 'n_estimators': 1330, 'max_depth': 37.73950909761777}. Best is trial 42 with value: 0.7589430894308943.\u001b[0m\n",
            "\u001b[32m[I 2022-04-26 13:17:22,099]\u001b[0m Trial 94 finished with value: 0.7524310537223019 and parameters: {'classifier': 'RandomForest', 'n_estimators': 1570, 'max_depth': 47.19003962753276}. Best is trial 42 with value: 0.7589430894308943.\u001b[0m\n",
            "\u001b[32m[I 2022-04-26 13:17:25,046]\u001b[0m Trial 95 finished with value: 0.7556830862426271 and parameters: {'classifier': 'RandomForest', 'n_estimators': 550, 'max_depth': 32.55183252150532}. Best is trial 42 with value: 0.7589430894308943.\u001b[0m\n",
            "\u001b[32m[I 2022-04-26 13:17:27,428]\u001b[0m Trial 96 finished with value: 0.7556830862426271 and parameters: {'classifier': 'RandomForest', 'n_estimators': 450, 'max_depth': 42.797908970705855}. Best is trial 42 with value: 0.7589430894308943.\u001b[0m\n",
            "\u001b[32m[I 2022-04-26 13:17:29,647]\u001b[0m Trial 97 finished with value: 0.7508209787980232 and parameters: {'classifier': 'RandomForest', 'n_estimators': 410, 'max_depth': 32.06864645952069}. Best is trial 42 with value: 0.7589430894308943.\u001b[0m\n",
            "\u001b[32m[I 2022-04-26 13:17:34,550]\u001b[0m Trial 98 finished with value: 0.744285031085605 and parameters: {'classifier': 'RandomForest', 'n_estimators': 620, 'max_depth': 42.48971795685084}. Best is trial 42 with value: 0.7589430894308943.\u001b[0m\n",
            "\u001b[32m[I 2022-04-26 13:17:38,664]\u001b[0m Trial 99 finished with value: 0.7491869918699187 and parameters: {'classifier': 'RandomForest', 'n_estimators': 420, 'max_depth': 54.64649627432753}. Best is trial 42 with value: 0.7589430894308943.\u001b[0m\n"
          ]
        },
        {
          "output_type": "stream",
          "name": "stdout",
          "text": [
            "Accuracy: 0.7589430894308943\n",
            "Best hyperparameters: {'classifier': 'RandomForest', 'n_estimators': 240, 'max_depth': 66.2495625255942}\n"
          ]
        }
      ]
    },
    {
      "cell_type": "code",
      "source": [
        "trial"
      ],
      "metadata": {
        "id": "YucN1J5g1m9V",
        "outputId": "8c49d4e9-7f62-4ac6-d569-87205a1061b5",
        "colab": {
          "base_uri": "https://localhost:8080/"
        }
      },
      "execution_count": 42,
      "outputs": [
        {
          "output_type": "execute_result",
          "data": {
            "text/plain": [
              "FrozenTrial(number=42, values=[0.7589430894308943], datetime_start=datetime.datetime(2022, 4, 26, 13, 11, 48, 674371), datetime_complete=datetime.datetime(2022, 4, 26, 13, 11, 49, 971951), params={'classifier': 'RandomForest', 'n_estimators': 240, 'max_depth': 66.2495625255942}, distributions={'classifier': CategoricalDistribution(choices=('RandomForest', 'SVC')), 'n_estimators': IntUniformDistribution(high=2000, low=200, step=10), 'max_depth': LogUniformDistribution(high=100.0, low=10.0)}, user_attrs={}, system_attrs={}, intermediate_values={}, trial_id=42, state=TrialState.COMPLETE, value=None)"
            ]
          },
          "metadata": {},
          "execution_count": 42
        }
      ]
    },
    {
      "cell_type": "code",
      "source": [
        "study.best_params"
      ],
      "metadata": {
        "id": "SPVxhDvm1o28",
        "outputId": "70aab029-4761-4d87-9e15-c00ad8f11c75",
        "colab": {
          "base_uri": "https://localhost:8080/"
        }
      },
      "execution_count": 43,
      "outputs": [
        {
          "output_type": "execute_result",
          "data": {
            "text/plain": [
              "{'classifier': 'RandomForest',\n",
              " 'max_depth': 66.2495625255942,\n",
              " 'n_estimators': 240}"
            ]
          },
          "metadata": {},
          "execution_count": 43
        }
      ]
    },
    {
      "cell_type": "code",
      "source": [
        "rf=RandomForestClassifier(n_estimators=330,max_depth=30)\n",
        "rf.fit(X_train,y_train)"
      ],
      "metadata": {
        "id": "rGJQ0-1i1ueZ",
        "outputId": "baa4d4f2-3023-4161-9f26-e7d6e2e21611",
        "colab": {
          "base_uri": "https://localhost:8080/"
        }
      },
      "execution_count": 44,
      "outputs": [
        {
          "output_type": "execute_result",
          "data": {
            "text/plain": [
              "RandomForestClassifier(max_depth=30, n_estimators=330)"
            ]
          },
          "metadata": {},
          "execution_count": 44
        }
      ]
    },
    {
      "cell_type": "code",
      "source": [
        "y_pred=rf.predict(X_test)\n",
        "print(confusion_matrix(y_test,y_pred))\n",
        "print(accuracy_score(y_test,y_pred))\n",
        "print(classification_report(y_test,y_pred))"
      ],
      "metadata": {
        "id": "cU9yL3Uu1yyF",
        "outputId": "87f1a512-3ad9-479a-ae07-27e820f8158b",
        "colab": {
          "base_uri": "https://localhost:8080/"
        }
      },
      "execution_count": 45,
      "outputs": [
        {
          "output_type": "stream",
          "name": "stdout",
          "text": [
            "[[96 11]\n",
            " [15 32]]\n",
            "0.8311688311688312\n",
            "              precision    recall  f1-score   support\n",
            "\n",
            "           0       0.86      0.90      0.88       107\n",
            "           1       0.74      0.68      0.71        47\n",
            "\n",
            "    accuracy                           0.83       154\n",
            "   macro avg       0.80      0.79      0.80       154\n",
            "weighted avg       0.83      0.83      0.83       154\n",
            "\n"
          ]
        }
      ]
    },
    {
      "cell_type": "markdown",
      "source": [
        "### All Techniques Of Hyper Parameter Optimization\n",
        "\n",
        "1. GridSearchCV\n",
        "2. RandomizedSearchCV\n",
        "3. Bayesian Optimization -Automate Hyperparameter Tuning (Hyperopt)\n",
        "4. Sequential Model Based Optimization(Tuning a scikit-learn estimator with skopt)\n",
        "4. Optuna- Automate Hyperparameter Tuning\n",
        "5. Genetic Algorithms (TPOT Classifier)\n",
        "\n",
        "###### References\n",
        "- https://github.com/fmfn/BayesianOptimization\n",
        "- https://github.com/hyperopt/hyperopt\n",
        "- https://www.jeremyjordan.me/hyperparameter-tuning/\n",
        "- https://optuna.org/\n",
        "- https://towardsdatascience.com/hyperparameters-optimization-526348bb8e2d(By Pier Paolo Ippolito )\n",
        "- https://scikit-optimize.github.io/stable/auto_examples/hyperparameter-optimization.html\n"
      ],
      "metadata": {
        "id": "YUmRKHmG17t1"
      }
    }
  ]
}